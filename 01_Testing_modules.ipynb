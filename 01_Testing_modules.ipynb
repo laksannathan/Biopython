{
 "cells": [
  {
   "cell_type": "markdown",
   "metadata": {},
   "source": [
    "# Introduction to Biopython\n",
    "## I. Testing modules in jupyter"
   ]
  },
  {
   "cell_type": "markdown",
   "metadata": {},
   "source": [
    "### a) Testing Biopython"
   ]
  },
  {
   "cell_type": "code",
   "execution_count": 1,
   "metadata": {},
   "outputs": [
    {
     "data": {
      "text/plain": [
       "'1.73'"
      ]
     },
     "execution_count": 1,
     "metadata": {},
     "output_type": "execute_result"
    }
   ],
   "source": [
    "# check your Biopython installation\n",
    "import Bio\n",
    "Bio.__version__\n"
   ]
  },
  {
   "cell_type": "markdown",
   "metadata": {},
   "source": [
    "### b) Testing NumPy-based Bio module"
   ]
  },
  {
   "cell_type": "code",
   "execution_count": 2,
   "metadata": {},
   "outputs": [
    {
     "name": "stdout",
     "output_type": "stream",
     "text": [
      "Help on package Bio.PDB in Bio:\n",
      "\n",
      "NAME\n",
      "    Bio.PDB - Classes that deal with macromolecular crystal structures.\n",
      "\n",
      "DESCRIPTION\n",
      "    Includes: PDB and mmCIF parsers, a Structure class, a module to keep a local\n",
      "    copy of the PDB up-to-date, selective IO of PDB files, etc.\n",
      "    \n",
      "    Author: Thomas Hamelryck.  Additional code by Kristian Rother.\n",
      "\n",
      "PACKAGE CONTENTS\n",
      "    AbstractPropertyMap\n",
      "    Atom\n",
      "    Chain\n",
      "    DSSP\n",
      "    Dice\n",
      "    Entity\n",
      "    FragmentMapper\n",
      "    HSExposure\n",
      "    MMCIF2Dict\n",
      "    MMCIFParser\n",
      "    Model\n",
      "    NACCESS\n",
      "    NeighborSearch\n",
      "    PDBExceptions\n",
      "    PDBIO\n",
      "    PDBList\n",
      "    PDBParser\n",
      "    PSEA\n",
      "    Polypeptide\n",
      "    QCPSuperimposer (package)\n",
      "    Residue\n",
      "    ResidueDepth\n",
      "    Selection\n",
      "    Structure\n",
      "    StructureAlignment\n",
      "    StructureBuilder\n",
      "    Superimposer\n",
      "    Vector\n",
      "    kdtrees\n",
      "    mmcifio\n",
      "    mmtf (package)\n",
      "    parse_pdb_header\n",
      "    vectors\n",
      "\n",
      "DATA\n",
      "    protein_letters_3to1 = {'00C': 'C', '01W': 'X', '02K': 'A', '03Y': 'C'...\n",
      "    standard_aa_names = ['ALA', 'CYS', 'ASP', 'GLU', 'PHE', 'GLY', 'HIS', ...\n",
      "\n",
      "FILE\n",
      "    c:\\users\\laksa\\appdata\\local\\programs\\python\\python36-32\\lib\\site-packages\\bio\\pdb\\__init__.py\n",
      "\n",
      "\n"
     ]
    }
   ],
   "source": [
    "# import NumPy based module\n",
    "from Bio import PDB\n",
    "\n",
    "# get information about the module\n",
    "help(PDB)"
   ]
  },
  {
   "cell_type": "markdown",
   "metadata": {},
   "source": [
    "### c) Testing matplotlib module"
   ]
  },
  {
   "cell_type": "code",
   "execution_count": 4,
   "metadata": {},
   "outputs": [
    {
     "data": {
      "image/png": "[encoded data removed]",
      "text/plain": [
       "<Figure size 432x288 with 1 Axes>"
      ]
     },
     "metadata": {
      "needs_background": "light"
     },
     "output_type": "display_data"
    }
   ],
   "source": [
    "# check matplotlib\n",
    "import matplotlib.pyplot as plt\n",
    "import math\n",
    "\n",
    "# fill a list\n",
    "x = [math.sin(i * 2 * math.pi/100.) for i in range(100)]\n",
    "plt.plot(x)\n",
    "plt.show()"
   ]
  },
  {
   "cell_type": "code",
   "execution_count": null,
   "metadata": {},
   "outputs": [],
   "source": []
  }
 ],
 "metadata": {
  "anaconda-cloud": {},
  "kernelspec": {
   "display_name": "Python 3",
   "language": "python",
   "name": "python3"
  },
  "language_info": {
   "codemirror_mode": {
    "name": "ipython",
    "version": 3
   },
   "file_extension": ".py",
   "mimetype": "text/x-python",
   "name": "python",
   "nbconvert_exporter": "python",
   "pygments_lexer": "ipython3",
   "version": "3.6.5"
  }
 },
 "nbformat": 4,
 "nbformat_minor": 2
}
