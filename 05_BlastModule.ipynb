{
 "cells": [
  {
   "cell_type": "markdown",
   "metadata": {},
   "source": [
    "## NCBI Blast\n",
    "- Online and standalone usage of BLAST via the __Bio.Blast__ module\n",
    "- functionality of __Bio.Blast__ will be replaced by __Bio.SearchIO__ in the future (until now: not stable)\n",
    "\n",
    "### NCBIWWW: qblast\n",
    "some useful parameters:\n",
    "- __program__ blastn/ blastp/ blastx/ tblastn / tblastx\n",
    "- __database__ which one to seayrch against (e.g., \"nr\")\n",
    "- __query__ BLAST search query"
   ]
  },
  {
   "cell_type": "code",
   "execution_count": 1,
   "metadata": {},
   "outputs": [
    {
     "ename": "NameError",
     "evalue": "name 'query_string' is not defined",
     "output_type": "error",
     "traceback": [
      "\u001b[0;31m---------------------------------------------------------------------------\u001b[0m",
      "\u001b[0;31mNameError\u001b[0m                                 Traceback (most recent call last)",
      "\u001b[0;32m<ipython-input-1-45edebbd6026>\u001b[0m in \u001b[0;36m<module>\u001b[0;34m()\u001b[0m\n\u001b[1;32m      3\u001b[0m \u001b[0;34m\u001b[0m\u001b[0m\n\u001b[1;32m      4\u001b[0m \u001b[0;32mfrom\u001b[0m \u001b[0mBio\u001b[0m\u001b[0;34m.\u001b[0m\u001b[0mBlast\u001b[0m \u001b[0;32mimport\u001b[0m \u001b[0mNCBIWWW\u001b[0m\u001b[0;34m\u001b[0m\u001b[0m\n\u001b[0;32m----> 5\u001b[0;31m \u001b[0mresult_handle\u001b[0m \u001b[0;34m=\u001b[0m \u001b[0mNCBIWWW\u001b[0m\u001b[0;34m.\u001b[0m\u001b[0mqblast\u001b[0m\u001b[0;34m(\u001b[0m\u001b[0;34m\"blastp\"\u001b[0m\u001b[0;34m,\u001b[0m \u001b[0;34m\"nr\"\u001b[0m\u001b[0;34m,\u001b[0m \u001b[0mquery_string\u001b[0m\u001b[0;34m)\u001b[0m\u001b[0;34m\u001b[0m\u001b[0m\n\u001b[0m\u001b[1;32m      6\u001b[0m \u001b[0;34m\u001b[0m\u001b[0m\n\u001b[1;32m      7\u001b[0m \u001b[0;31m# standalone BLAST search\u001b[0m\u001b[0;34m\u001b[0m\u001b[0;34m\u001b[0m\u001b[0m\n",
      "\u001b[0;31mNameError\u001b[0m: name 'query_string' is not defined"
     ]
    }
   ],
   "source": [
    "from Bio import Blast\n",
    "\n",
    "\n",
    "from Bio.Blast import NCBIWWW\n",
    "result_handle = NCBIWWW.qblast(\"blastp\", \"nr\", query_string)\n",
    "\n",
    "# standalone BLAST search \n",
    "from Bio.Blast import NCBIStandalone\n",
    "result_handle, error_handle = NCBIStandalone.blastall(\"/usr/bin/blastall\", \"blastp\", \"/db/fasta/nr\", query_filename)"
   ]
  },
  {
   "cell_type": "markdown",
   "metadata": {},
   "source": [
    "##  The Blast module: parsing out\n",
    "    Blast produces reports in plain text and xml format. Biopython requests XML by default:"
   ]
  },
  {
   "cell_type": "code",
   "execution_count": null,
   "metadata": {},
   "outputs": [],
   "source": [
    "from Bio.Blast import NCBIWWW, NCBIXML\n",
    "result_handle = NCBIWWW.qblast(\"blastp\", \"nr\", query_string)\n",
    "blast_record = NCBIXML.read(result_handle)\n",
    "print(blast_record)"
   ]
  },
  {
   "cell_type": "markdown",
   "metadata": {},
   "source": [
    "## The Blast module: Example"
   ]
  },
  {
   "cell_type": "markdown",
   "metadata": {},
   "source": [
    "#### 1.) Search for homologous sequences"
   ]
  },
  {
   "cell_type": "code",
   "execution_count": 3,
   "metadata": {},
   "outputs": [],
   "source": [
    "from Bio import SeqIO\n",
    "from Bio.Blast import NCBIWWW, NCBIXML\n",
    "\n",
    "# read and reformat the query sequence\n",
    "seq_rec = SeqIO.read(open(\"data/single_record.gbk\"), \"gb\")\n",
    "query = seq_rec.format(\"fasta\")\n",
    "\n",
    "#submit an online Blast query (takes some running time)\n",
    "result_handle = NCBIWWW.qblast(\"blastx\", \"nr\", query)\n",
    "\n",
    "# save the BLAST results as an XML file\n",
    "with open(\"blast.xml\", \"w\") as save_file:\n",
    "    save_file.write(result_handle.read())\n",
    "    \n",
    "result_handle.close()\n",
    "# as the result_handle is readable only once, reload it\n"
   ]
  },
  {
   "cell_type": "code",
   "execution_count": null,
   "metadata": {
    "collapsed": true
   },
   "outputs": [],
   "source": []
  }
 ],
 "metadata": {
  "anaconda-cloud": {},
  "kernelspec": {
   "display_name": "Python 3",
   "language": "python3",
   "name": "python3"
  },
  "language_info": {
   "codemirror_mode": {
    "name": "ipython",
    "version": 3
   },
   "file_extension": ".py",
   "mimetype": "text/x-python",
   "name": "python",
   "nbconvert_exporter": "python",
   "pygments_lexer": "ipython3",
   "version": "3.6.5"
  }
 },
 "nbformat": 4,
 "nbformat_minor": 1
}
