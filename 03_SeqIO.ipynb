{
 "cells": [
  {
   "cell_type": "markdown",
   "metadata": {
    "nbpresent": {
     "id": "3125fb4b-4369-41f2-9ce9-cb24865090c8"
    }
   },
   "source": [
    "# SeqIO"
   ]
  },
  {
   "cell_type": "markdown",
   "metadata": {
    "nbpresent": {
     "id": "b50acbd1-c5b5-45cc-a8a9-179e7527e82f"
    }
   },
   "source": [
    "Manipulating nucleotide and protein sequences\n",
    "- manipulating simple files (e.g., FASTA files) \n",
    "- mainpulating files with rich meta data annotation (genbank file format)\n",
    "\n",
    "Biopython has an API for IO of sequences (__Bio.SeqIO__) and __Bio.SeqRecord__ for accessing richly annoted data"
   ]
  },
  {
   "cell_type": "markdown",
   "metadata": {
    "nbpresent": {
     "id": "c5992808-112b-49a7-a093-4761bb4fe2df"
    }
   },
   "source": [
    "## The SeqIO object\n",
    "- supports different file formats\n",
    "- for example: clustal(aln), genbank(gb), pir, embl, fasta, ...\n",
    "- see [SeqIO wiki](http://biopython.org/wiki/SeqIO) for more information\n",
    "\n",
    "\n",
    "SeqIO provides four functions: \n",
    "- __parse()__: iteratively parse all elements in the file\n",
    "- __read()__: parse a one-element file and return the element\n",
    "- __write()__: write elements to a file\n",
    "- __convert()__: parse one format and immediately write another\n",
    "\n",
    "SeqIO manipulates sequences as __Seqrecord__ objects\n",
    "Alignments (Bio.AlignIo), Blast results (Bio.Blast), and phylogenetic trees(Bio.Phylo) use the same input/output conventions"
   ]
  },
  {
   "cell_type": "markdown",
   "metadata": {
    "nbpresent": {
     "id": "1b07724c-984e-478b-b8a7-2784d89d84f8"
    }
   },
   "source": [
    "## The SeqRecord object\n",
    "SeqRecord is a common object for sequence file entries\n",
    "- wraps a __Seq__ object\n",
    "- attaches _metadata_ (like identifiers and annotation)\n",
    "- Suitable for richly annotated sequence (like data from gb and embl files)\n"
   ]
  },
  {
   "cell_type": "markdown",
   "metadata": {
    "nbpresent": {
     "id": "15860ea1-bfac-4ecd-9392-82ea961b90c8"
    }
   },
   "source": [
    "### Attributes of a SeqRecord object:\n",
    "- __seq__ the sequence itself, typically (Bio.Seq) object\n",
    "- __id__ primary ID for the sequence (string), typically an accession number\n",
    "- __name__ \"common\" name for the sequence (LOCUS id in gb files)\n",
    "- __description__ human-readible description of the sequence\n",
    "- __letter_annotations__ dictionary of additional info about individual letters in the sequence (like quality scores, secondary structure information)\n",
    "- __annotations__ dictionary of additional unstructured info\n",
    "- __features__ list of __SeqFeature__ objects with more structured information (like position of genes on a genome and domains on  a protein sequence)\n",
    "- __dbxrefs__ list of database cross-references(strings)"
   ]
  },
  {
   "cell_type": "markdown",
   "metadata": {
    "nbpresent": {
     "id": "da53bf83-2d21-4265-957f-8d0b09ab3d9d"
    }
   },
   "source": [
    "### Creation of SeqRecord objects:\n",
    "#### 1.) From scratch: directly setting the attributes:\n"
   ]
  },
  {
   "cell_type": "code",
   "execution_count": 1,
   "metadata": {
    "nbpresent": {
     "id": "bf1bbcd1-b130-4f64-b524-d51d973a0593"
    }
   },
   "outputs": [
    {
     "name": "stdout",
     "output_type": "stream",
     "text": [
      "ID: AC12345\n",
      "Name: <unknown name>\n",
      "Description: <unknown description>\n",
      "Number of features: 0\n",
      "Seq('GATC')\n",
      "{'evidence': 'None. I just made it up.'}\n"
     ]
    }
   ],
   "source": [
    "from Bio.Seq import Seq\n",
    "from Bio.SeqRecord import SeqRecord\n",
    "simple_seq = Seq(\"GATC\")\n",
    "simple_seq_r = SeqRecord(simple_seq)\n",
    "simple_seq_r.id = \"AC12345\" # id is important for outputting the record to a file\n",
    "print(simple_seq_r) # all other attributes are empty or unknown\n",
    "\n",
    "# set annotations (is a python dictionary)\n",
    "simple_seq_r.annotations[\"evidence\"] = \"None. I just made it up.\"\n",
    "print(simple_seq_r.annotations)"
   ]
  },
  {
   "cell_type": "markdown",
   "metadata": {
    "nbpresent": {
     "id": "8e0337ca-530a-49c0-bb58-85d7c7ba0266"
    }
   },
   "source": [
    "#### 2.) From a sequence file \n",
    "### Bio.SeqIO.parse():\n",
    "1. Open the sequence file to obtain a handle\n",
    "2. Pass the handle to SeqIO.parse():\n",
    "   Arguments:\n",
    "     - file handle or file name\n",
    "     - file format (explicit specification)\n",
    "     - alphabet (optional)\n",
    "   Output: SeqRecord iterator\n",
    "3. Close the sequence file \n",
    "4. Display the content of the sequence records (via the iterator)\n",
    "\n",
    "__Note__: In python it is good practice to open files with the \"with\" statement to create a context manager. This has the advantage, that the file is properly closed (even if an exception was thrown). See [python's documentation on with](https://docs.python.org/3.5/reference/datamodel.html#context-managers) for more information."
   ]
  },
  {
   "cell_type": "code",
   "execution_count": 3,
   "metadata": {
    "nbpresent": {
     "id": "79d18653-2f3c-4a96-98d7-3b5f7dc35f3b"
    }
   },
   "outputs": [
    {
     "name": "stdout",
     "output_type": "stream",
     "text": [
      "gi|349840|pdb|1ATP|I 20 TTYADFIASG...\n",
      "gi|334878378|pdb|1ATP|E 350 GNAAAAKKGS...\n"
     ]
    }
   ],
   "source": [
    "from Bio import SeqIO\n",
    "with open(\"data/1ATP_ncbi.fasta\", \"r\") as in_file:\n",
    "    seq_rec_it = SeqIO.parse(in_file, \"fasta\")   \n",
    "    \n",
    "    # iterate through the records \n",
    "    for rec in seq_rec_it:\n",
    "        print(rec.id, len(rec.seq), rec.seq[:10] + \"...\")\n"
   ]
  },
  {
   "cell_type": "code",
   "execution_count": 4,
   "metadata": {
    "nbpresent": {
     "id": "86a264ed-0d22-480d-9f56-076d19107797"
    }
   },
   "outputs": [
    {
     "name": "stdout",
     "output_type": "stream",
     "text": [
      "gi|349840|pdb|1ATP|I 20 TTYADFIASG...\n"
     ]
    }
   ],
   "source": [
    "# or generate a list of record iterators\n",
    "with open(\"data/1ATP_ncbi.fasta\", \"r\") as in_file:\n",
    "   \n",
    "    recs = list(SeqIO.parse(in_file, \"fasta\"))\n",
    "    # and print only the first record\n",
    "    print(recs[0].id, len(recs[0].seq), recs[0].seq[:10] + \"...\") "
   ]
  },
  {
   "cell_type": "code",
   "execution_count": 5,
   "metadata": {
    "nbpresent": {
     "id": "f1055e3b-8b98-4547-90ab-6e3a152ffd78"
    }
   },
   "outputs": [
    {
     "name": "stdout",
     "output_type": "stream",
     "text": [
      "dict_keys(['gi|349840|pdb|1ATP|I', 'gi|334878378|pdb|1ATP|E'])\n"
     ]
    }
   ],
   "source": [
    "# or for small files, generate a dictionary from the input file\n",
    "with open(\"data/1ATP_ncbi.fasta\", \"r\") as in_file:\n",
    "    rec_dict = SeqIO.to_dict(SeqIO.parse(in_file, \"fasta\"))\n",
    "    # print the keys of the dictionary\n",
    "    print(rec_dict.keys())"
   ]
  },
  {
   "cell_type": "markdown",
   "metadata": {
    "nbpresent": {
     "id": "66eeb8a8-9d66-4e62-8921-7b045e8c5eed"
    }
   },
   "source": [
    "\n",
    "### Bio.SeqIO.read():\n",
    "- Same arguments as Bio.SeqIO.parse()\n",
    "- use it when you know, that your file only contains one record!\n",
    "- returns a single Bio.SeqRecord object\n",
    "\n",
    "Example: Parsing a genbank file with rich text format"
   ]
  },
  {
   "cell_type": "code",
   "execution_count": 6,
   "metadata": {
    "nbpresent": {
     "id": "a3d767a1-fa26-479c-a8d6-f11f5c610611"
    }
   },
   "outputs": [
    {
     "name": "stdout",
     "output_type": "stream",
     "text": [
      "9609\n",
      "9609\n",
      "ID: NC_005816.1\n",
      "Name: NC_005816\n",
      "Description: Yersinia pestis biovar Microtus str. 91001 plasmid pPCP1, complete sequence\n",
      "Database cross-references: Project:58037\n",
      "Number of features: 41\n",
      "/molecule_type=DNA\n",
      "/topology=circular\n",
      "/data_file_division=BCT\n",
      "/date=21-JUL-2008\n",
      "/accessions=['NC_005816']\n",
      "/sequence_version=1\n",
      "/gi=45478711\n",
      "/keywords=['']\n",
      "/source=Yersinia pestis biovar Microtus str. 91001\n",
      "/organism=Yersinia pestis biovar Microtus str. 91001\n",
      "/taxonomy=['Bacteria', 'Proteobacteria', 'Gammaproteobacteria', 'Enterobacteriales', 'Enterobacteriaceae', 'Yersinia']\n",
      "/references=[Reference(title='Genetics of metabolic variations between Yersinia pestis biovars and the proposal of a new biovar, microtus', ...), Reference(title='Complete genome sequence of Yersinia pestis strain 91001, an isolate avirulent to humans', ...), Reference(title='Direct Submission', ...), Reference(title='Direct Submission', ...)]\n",
      "/comment=PROVISIONAL REFSEQ: This record has not yet been subject to final\n",
      "NCBI review. The reference sequence was derived from AE017046.\n",
      "COMPLETENESS: full length.\n",
      "Seq('TGTAACGAACGGTGCAATAGTGATCCACACCCAACGCCTGAAATCAGATCCAGG...CTG', IUPACAmbiguousDNA())\n"
     ]
    }
   ],
   "source": [
    "from Bio import SeqIO\n",
    "\n",
    "# using SeqIO's parse method to get the length of the sequence of the record\n",
    "print(sum([len(r) for r in SeqIO.parse(\"data/single_record.gbk\", \"genbank\")]))\n",
    "\n",
    "# using SeqIO's read method to get the length of the sequence \n",
    "record = SeqIO.read(\"data/single_record.gbk\", \"genbank\")\n",
    "print(len(record.seq))\n",
    "\n",
    "print(record)"
   ]
  },
  {
   "cell_type": "markdown",
   "metadata": {
    "nbpresent": {
     "id": "7121aa6f-0934-48fa-8e05-7fb222476283"
    }
   },
   "source": [
    "## Bio.SeqIO API: writing into a file\n",
    "### Bio.SeqIO.write():\n",
    "- Arguments: SeqRecord-s, file handle (file name), file format\n",
    "- Output: number of written records"
   ]
  },
  {
   "cell_type": "code",
   "execution_count": 16,
   "metadata": {
    "nbpresent": {
     "id": "c6a34e6f-9ce2-474e-b841-44c95def99a1"
    }
   },
   "outputs": [
    {
     "name": "stdout",
     "output_type": "stream",
     "text": [
      "1\n"
     ]
    }
   ],
   "source": [
    "from Bio import SeqIO\n",
    "from Bio.Seq import Seq\n",
    "from Bio.SeqRecord import SeqRecord\n",
    "seq_r = SeqRecord(Seq(\"GATC\"))\n",
    "#print(SeqIO.write(seq_r, \"data/output/gatc.fasta\", \"fasta\"))\n",
    "print(SeqIO.write(seq_r, \"data/output/gatc.fasta\", \"fasta\"))"
   ]
  },
  {
   "cell_type": "markdown",
   "metadata": {
    "nbpresent": {
     "id": "782d4890-c7f3-4976-a5ee-cc4081be9b17"
    }
   },
   "source": [
    "### Bio.SeqIO.convert():\n",
    "- Arguments: file name, converted file name, file format\n",
    "- Output: number of converted records\n"
   ]
  },
  {
   "cell_type": "code",
   "execution_count": 17,
   "metadata": {
    "nbpresent": {
     "id": "bcfc1b57-c747-4f41-8f05-ede12eacfba8"
    }
   },
   "outputs": [
    {
     "name": "stdout",
     "output_type": "stream",
     "text": [
      "Number of converted records:  1\n"
     ]
    }
   ],
   "source": [
    "count = SeqIO.convert(\"data/single_record.gbk\", \"genbank\", \"data/output/conversion.fasta\", \"fasta\")\n",
    "print(\"Number of converted records: \", count)"
   ]
  },
  {
   "cell_type": "markdown",
   "metadata": {
    "nbpresent": {
     "id": "a5a1ff80-8c12-4e20-be46-311fce8d83ee"
    }
   },
   "source": [
    "## Bio.SeqIO API: Analysing sequence files\n",
    "\n",
    "Statistics:"
   ]
  },
  {
   "cell_type": "code",
   "execution_count": 18,
   "metadata": {
    "nbpresent": {
     "id": "2350931c-ba4c-49b9-8e64-ecbb0bb01491"
    }
   },
   "outputs": [
    {
     "name": "stdout",
     "output_type": "stream",
     "text": [
      "7 893 902\n",
      "[902, 899, 899, 895, 893, 894, 896]\n"
     ]
    }
   ],
   "source": [
    "sizes = [len(r) for r in SeqIO.parse(\"data/example1.fasta\", \"fasta\")]\n",
    "print(len(sizes), min(sizes), max(sizes))\n",
    "print(sizes)"
   ]
  },
  {
   "cell_type": "markdown",
   "metadata": {
    "nbpresent": {
     "id": "17988c27-f115-4aeb-8a15-c4d2fcf1b495"
    }
   },
   "source": [
    "### Example: Plotting a histogram of sequence lengths: "
   ]
  },
  {
   "cell_type": "code",
   "execution_count": 20,
   "metadata": {
    "nbpresent": {
     "id": "f48f982a-8c47-4d40-bf7a-f354392c3d0b"
    }
   },
   "outputs": [
    {
     "data": {
      "image/png": "[encoded data removed]",
      "text/plain": [
       "<Figure size 432x288 with 1 Axes>"
      ]
     },
     "metadata": {
      "needs_background": "light"
     },
     "output_type": "display_data"
    }
   ],
   "source": [
    "from matplotlib import pyplot as plt\n",
    "plt.hist(sizes, bins = 10)\n",
    "plt.title(\"{0} sequences \\n sequence lengths {1} to {2}\".format(len(sizes), min(sizes), max(sizes)))\n",
    "plt.xlabel(\"Sequence length\")\n",
    "plt.ylabel(\"Count\")\n",
    "plt.show()"
   ]
  },
  {
   "cell_type": "markdown",
   "metadata": {
    "nbpresent": {
     "id": "997f00e9-05b2-43d6-b122-125cebf55689"
    }
   },
   "source": [
    "### Plotting GC content over all sequences:"
   ]
  },
  {
   "cell_type": "code",
   "execution_count": 21,
   "metadata": {
    "nbpresent": {
     "id": "591a04b2-7602-4566-90be-c532b74a26ee"
    }
   },
   "outputs": [
    {
     "data": {
      "image/png": "[encoded data removed]",
      "text/plain": [
       "<Figure size 432x288 with 1 Axes>"
      ]
     },
     "metadata": {
      "needs_background": "light"
     },
     "output_type": "display_data"
    }
   ],
   "source": [
    "from Bio.SeqUtils import GC\n",
    "val = sorted(GC(r.seq) for r in SeqIO.parse(\"data/example1.fasta\", \"fasta\"))\n",
    "plt.plot(val)\n",
    "plt.title(\"{0} sequences \\n GC content {1} to {2}\".format(len(val), min(val), max(val)))\n",
    "plt.xlabel(\"Genes\")\n",
    "plt.ylabel(\"% GC content\")\n",
    "plt.show()"
   ]
  },
  {
   "cell_type": "markdown",
   "metadata": {
    "collapsed": true,
    "nbpresent": {
     "id": "822a5c31-652b-4ce1-ae48-26128fa1785c"
    }
   },
   "source": [
    "# AlignIO\n",
    "\n",
    "## Alignment\n",
    "- Set of sequences with the __same length __ and __alphabet__\n",
    "- Different formats, e.g., clustal, stockholm and fasta\n",
    "\n",
    "## Bio.AlignIO\n",
    "- Multiple sequence alignment input / output interface\n",
    "- One/ more sequence alignments represented as alignment objects\n",
    "- Bio.SeqIO names for supported file formats and API"
   ]
  },
  {
   "cell_type": "code",
   "execution_count": 22,
   "metadata": {
    "nbpresent": {
     "id": "bd368bb6-f0e2-4d6e-9209-b47c8955b5c2"
    }
   },
   "outputs": [
    {
     "name": "stdout",
     "output_type": "stream",
     "text": [
      "SingleLetterAlphabet() alignment with 20 rows and 411 columns\n",
      "--------------------------------------------...--- gi|14150838|gb|AAK54648.1|AF37\n",
      "MTVLEESADASSRRLAQRANGPATVLAIGTANPANVFEQSSYPD...--- gi|12644515|sp|Q9MBB1|CHSY_EQU\n",
      "------MVTVEEVRKAQRAEGPATILAIGTATPANCVDQSTYPD...--- gi|13774971|gb|AAK39113.1|AF35\n",
      "------MVTVEEVRKAQRAEGPATILAIGTATPANCVDQSTYPD...--- gi|13774967|gb|AAK39111.1|AF35\n",
      "------MVTVEEVRKAQRAEGPATILAIGTATPANCVDQSTYPD...--- gi|13774975|gb|AAK39115.1|AF35\n",
      "------MVTVEEVRKAQRAEGPATILAIGTATPANCVDQSTYPD...--- gi|13774965|gb|AAK39110.1|AF35\n",
      "------MVTVEEVRKAQRAEGPATILAIGTATPANCVDQSTYPD...--- gi|13774973|gb|AAK39114.1|AF35\n",
      "------MVTVEEVRKAQRAEGPATILAIGTATPANCVDQSTYPD...--- gi|13774969|gb|AAK39112.1|AF35\n",
      "-----------------------------------------YPD...--- gi|13919613|gb|AAK33142.1|\n",
      "-----------------------------------------YPD...--- gi|13919597|gb|AAK33134.1|\n",
      "------MVTVEEFRRAQCAEGPATVMAIGTATPSNCVDQSTYPD...--- gi|13925890|gb|AAK49457.1|\n",
      "------MVTVEEVRKAQRAEGPATILAIGTVTPANCVNQSTYPD...PH- gi|12644514|sp|Q9MB41|CHS2_IPO\n",
      "------MVTVEEVRKAQRAEGPATILAIGTVTPANCVNQSTYPD...PH- gi|12644512|sp|Q9MB39|CHS4_IPO\n",
      "------MVTVEEVRKAQRAEGPATILAIGTVTPANCVNQSTYPD...--- gi|12644509|sp|Q9MB36|CHS8_IPO\n",
      "------MVTVEEVRKAQRAEGPATILAIGTATPANCVNQSTYPD...PH- gi|12644511|sp|Q9MB38|CHS6_IPO\n",
      "------MVTVEEVRKAKRAEGPATILAIGTATPANCVNQSTYPD...PH- gi|12644510|sp|Q9MB37|CHS7_IPO\n",
      "------MVTVGEVRKAQRAEGPATILAIGTATPANCVNQSTYPD...--- gi|12644513|sp|Q9MB40|CHS3_IPO\n",
      "----MTSMTVDQIRRPLRAEGLATILAIGTANPANYITQADYPD...--- gi|13936397|dbj|BAB47195.1|\n",
      "----MTSMTVDQIRRPLRAEGLATILAIGTANPANYITQADYPD...--- gi|13936395|dbj|BAB47194.1|\n",
      "---MSSSITVDQIRKAQRAEGPATILAIGTATPANFIIQADYPD...SET gi|13936399|dbj|BAB47196.1|\n"
     ]
    }
   ],
   "source": [
    "from Bio import AlignIO\n",
    "aln = AlignIO.read(\"data/msa2.aln\", \"clustal\")\n",
    "print(aln)"
   ]
  },
  {
   "cell_type": "code",
   "execution_count": 23,
   "metadata": {
    "nbpresent": {
     "id": "2c0b6991-c858-4372-a7b7-3d9688ba172c"
    }
   },
   "outputs": [
    {
     "data": {
      "text/plain": [
       "<<class 'Bio.Align.MultipleSeqAlignment'> instance (20 records of length 411, SingleLetterAlphabet()) at 112e8ff0>"
      ]
     },
     "execution_count": 23,
     "metadata": {},
     "output_type": "execute_result"
    }
   ],
   "source": [
    "aln"
   ]
  },
  {
   "cell_type": "markdown",
   "metadata": {
    "nbpresent": {
     "id": "d6758c1c-a56b-48e9-879e-4f0bd3bb0a9d"
    }
   },
   "source": [
    "### Alignment input\n",
    "- Functions: read(), parse()\n",
    "- Arguments: file handle, file format, seq_count, alphabet\n",
    "- Output: (iterator to) MultipleSeqAlignment object(s)"
   ]
  },
  {
   "cell_type": "code",
   "execution_count": 24,
   "metadata": {
    "nbpresent": {
     "id": "61deabce-c0f0-43c5-9483-4fcbfe34d7e7"
    }
   },
   "outputs": [
    {
     "name": "stdout",
     "output_type": "stream",
     "text": [
      "Alignment length:  76\n"
     ]
    }
   ],
   "source": [
    "aln1 = AlignIO.read(\"data/msa_pk_seed.sth\", \"stockholm\")\n",
    "print(\"Alignment length: \", aln1.get_alignment_length())"
   ]
  },
  {
   "cell_type": "code",
   "execution_count": 25,
   "metadata": {
    "nbpresent": {
     "id": "5d1776d9-cfb6-487d-ac19-5d0e464039c7"
    }
   },
   "outputs": [
    {
     "name": "stdout",
     "output_type": "stream",
     "text": [
      "TDVEP...DDGEQGGESSSSTDPPKESTEGAKTE \t Q5SPN9_DANRE/2-74\n",
      "MEVES...AEGQAEGSTPDKEASSQPESSDANTS \t IPKG_MOUSE/2-75\n",
      "MDVEA...AEGTA-GASPAPEAEAPPATMPRELE \t Q4S692_TETNG/2-76\n",
      "TDVES...SEGDENEKENPSDKTPEEKNQAPKPE \t Q5BKM1_XENTR/2-75\n",
      "TDVES...AEGEGDAQRNPSEQTGEAQGEAAKQE \t IPKA_CHICK/2-75\n",
      "TDVET...TEGEDDGQRSSTEQSGEAQGEAAKSE \t IPKA_RAT/2-75\n",
      "TDVEP...EDVKKKDEETAQDQLEKPKDEG---K \t Q0VCK2_BOVIN/9-79\n",
      "TDVES...EDAKTKNEEKDQGQPKTPLNEG---K \t IPKB_MOUSE/23-92\n",
      "TDVES...EDAKEKDEKTTQDQLEKPQNEE---K \t Q5T0Z7_HUMAN/16-85\n"
     ]
    }
   ],
   "source": [
    "for raln in aln1:\n",
    "    print(raln.seq[:5] + \"...\" + raln.seq[50:], \"\\t\",  raln.id)"
   ]
  },
  {
   "cell_type": "code",
   "execution_count": 26,
   "metadata": {
    "nbpresent": {
     "id": "a90e0350-4bfd-49d0-a41b-b5fa4f6cc964"
    }
   },
   "outputs": [
    {
     "name": "stdout",
     "output_type": "stream",
     "text": [
      "Alignment length:  105\n"
     ]
    }
   ],
   "source": [
    "# parsing a stockholm (PFAM) format (containing rich annotation)\n",
    "aln2 = AlignIO.read(\"data/msa_pk_rp15.sth\", \"stockholm\")\n",
    "print(\"Alignment length: \", aln2.get_alignment_length())"
   ]
  },
  {
   "cell_type": "code",
   "execution_count": 27,
   "metadata": {
    "nbpresent": {
     "id": "073902b0-a202-457f-a4f4-7e2925b849ca"
    }
   },
   "outputs": [
    {
     "name": "stdout",
     "output_type": "stream",
     "text": [
      "----K...----------STNLGPN------------ \t E9HLU5_DAPPU/20-78 \t \n",
      "EVPER...----------GPSPPKQGTS--------- \t Q564X6_CAEEL/5-72 \t \n",
      "-AEVA...SS--------QADSQG------------- \t C3YMU2_BRAFL/41-115 \t \n",
      "-----...----------VEEIALIMSAQNSENNF-- \t H9J1P3_BOMMO/5-69 \t \n",
      "-ETDE...TSKQQ-----G------------------ \t H9KE77_APIME/84-150 \t \n",
      "-TTED...----------TDS---------------- \t A8PSX9_BRUMA/15-79 \t \n",
      "----P...TSE-------GPPKS-------------- \t B7P5W6_IXOSC/16-86 \t \n",
      "-----...QPQSSD----GTTS--------------- \t IPKG_HUMAN/2-75 \t \n",
      "-----...EAQGEAAKSE------------------- \t IPKA_HUMAN/2-75 \t PDB; 2UW5 I; 5-24;\n"
     ]
    }
   ],
   "source": [
    "for i, raln in enumerate(aln2):\n",
    "    tmp =\"\"\n",
    "    if raln.dbxrefs:\n",
    "        tmp = raln.dbxrefs[0]\n",
    "    if i < 9:\n",
    "        print(raln.seq[:5] + \"...\" + raln.seq[76:],\"\\t\", raln.id, \"\\t\", tmp)"
   ]
  },
  {
   "cell_type": "markdown",
   "metadata": {
    "nbpresent": {
     "id": "cba91772-c6e3-4a15-91e5-261dd45ff197"
    }
   },
   "source": [
    "### Alignment output\n",
    "- Formatted output to a file \n",
    "- Functions: write()\n",
    "- Arguments: alignment-s, file handle, file format\n",
    "\n",
    "\n"
   ]
  },
  {
   "cell_type": "code",
   "execution_count": 28,
   "metadata": {
    "nbpresent": {
     "id": "2d497549-fe32-4347-b3cd-8c97d2d57d94"
    }
   },
   "outputs": [
    {
     "name": "stdout",
     "output_type": "stream",
     "text": [
      "Number of written Alignments:  2\n"
     ]
    }
   ],
   "source": [
    "from Bio.Alphabet import generic_dna\n",
    "from Bio.Seq import Seq\n",
    "from Bio.SeqRecord import SeqRecord\n",
    "from Bio.Align import MultipleSeqAlignment\n",
    "from Bio import AlignIO\n",
    "\n",
    "# create the alignment objects from scratch\n",
    "al1 = MultipleSeqAlignment([\n",
    "        SeqRecord(Seq(\"ACTGCTAGCTAG\", generic_dna), id = \"id1\"),\n",
    "        SeqRecord(Seq(\"ACT-CTAGCTAG\", generic_dna), id = \"id2\"),])\n",
    "\n",
    "al2 = MultipleSeqAlignment([\n",
    "        SeqRecord(Seq(\"GTCAGC-AG\", generic_dna), id = \"id3\"),\n",
    "        SeqRecord(Seq(\"GACAGCTAG\", generic_dna), id = \"id4\")])\n",
    "\n",
    "# make a list wut tge alignment objects\n",
    "alignments = [al1, al2]\n",
    "print(\"Number of written Alignments: \", AlignIO.write(alignments, \"data/output/alignments.fasta\", \"fasta\"))"
   ]
  },
  {
   "cell_type": "code",
   "execution_count": 29,
   "metadata": {
    "nbpresent": {
     "id": "5f63a96a-6089-4086-a3ca-b4006796ea22"
    }
   },
   "outputs": [
    {
     "name": "stdout",
     "output_type": "stream",
     "text": [
      "CLUSTAL X (1.81) multiple sequence alignment\n",
      "\n",
      "\n",
      "Q5SPN9_DANRE/2-74                   TDVEPVVSDFAATGRTGRRNALPDILG-STAGPGA-ADLPDKLAELTV-G\n",
      "IPKG_MOUSE/2-75                     MEVESSYSDFISCDRTGRRNAVPDIQGDSEAV--SVRKLAGDMGELALEG\n",
      "Q4S692_TETNG/2-76                   MDVEASYSDFINCDRTGRRNAVPDITREGEQVPASTSELAKDMAEMDLKA\n",
      "Q5BKM1_XENTR/2-75                   TDVESTYADFIASGRTGRRNALHDILV-SSSSGNT-SELALKLSELDISK\n",
      "IPKA_CHICK/2-75                     TDVESTYADFIASGRTGRRNALHDILV-SSPGGNS-SELALKLSELDINK\n",
      "IPKA_RAT/2-75                       TDVETTYADFIASGRTGRRNAIHDILV-SSASGNS-NELALKLAGLDINK\n",
      "Q0VCK2_BOVIN/9-79                   TDVEPVVNNFASSARAGRRNAVPDIQG-STAAGGTLEELPVKLEALSV-K\n",
      "IPKB_MOUSE/23-92                    TDVESVITSFASSARAGRRNALPDIQS-SLATSGS-SDLPLKLEALAV-K\n",
      "Q5T0Z7_HUMAN/16-85                  TDVESGVANFASSARAGRRNALPDIQS-SAATDGT-SDLPLKLEALSV-K\n",
      "\n",
      "Q5SPN9_DANRE/2-74                   DDGEQGGESSSSTDPPKESTEGAKTE\n",
      "IPKG_MOUSE/2-75                     AEGQAEGSTPDKEASSQPESSDANTS\n",
      "Q4S692_TETNG/2-76                   AEGTA-GASPAPEAEAPPATMPRELE\n",
      "Q5BKM1_XENTR/2-75                   SEGDENEKENPSDKTPEEKNQAPKPE\n",
      "IPKA_CHICK/2-75                     AEGEGDAQRNPSEQTGEAQGEAAKQE\n",
      "IPKA_RAT/2-75                       TEGEDDGQRSSTEQSGEAQGEAAKSE\n",
      "Q0VCK2_BOVIN/9-79                   EDVKKKDEETAQDQLEKPKDEG---K\n",
      "IPKB_MOUSE/23-92                    EDAKTKNEEKDQGQPKTPLNEG---K\n",
      "Q5T0Z7_HUMAN/16-85                  EDAKEKDEKTTQDQLEKPQNEE---K\n",
      "\n",
      "\n",
      "\n"
     ]
    }
   ],
   "source": [
    "# get the alignment in clustal format\n",
    "print(aln1.format(\"clustal\"))"
   ]
  },
  {
   "cell_type": "code",
   "execution_count": 30,
   "metadata": {
    "nbpresent": {
     "id": "a629e359-cf73-4049-b419-cd5639d134ef"
    }
   },
   "outputs": [
    {
     "name": "stdout",
     "output_type": "stream",
     "text": [
      "Converted alignments:  1\n"
     ]
    }
   ],
   "source": [
    "# File format conversions\n",
    "count = AlignIO.convert(\"data/msa_pk_seed.sth\", \"stockholm\", \"data/output/msa_pk_seed.aln\", \"clustal\")\n",
    "print(\"Converted alignments: \", count)\n",
    "\n",
    "# or via AlignIO.read() and AlignIO.write() methods:\n",
    "alnc = AlignIO.parse(\"data/msa_pk_seed.sth\", \"stockholm\")\n",
    "count2 = AlignIO.write(alnc, \"data/output/ms_pk_seed.aln\", \"clustal\")"
   ]
  },
  {
   "cell_type": "markdown",
   "metadata": {
    "nbpresent": {
     "id": "0d1e24a2-9b84-486f-8912-22c8942f1683"
    }
   },
   "source": [
    "### Manipulating alignments"
   ]
  },
  {
   "cell_type": "code",
   "execution_count": 31,
   "metadata": {
    "nbpresent": {
     "id": "507583d2-d048-4dd4-89c9-b8c5c1d31d8b"
    }
   },
   "outputs": [
    {
     "name": "stdout",
     "output_type": "stream",
     "text": [
      "SingleLetterAlphabet() alignment with 9 rows and 76 columns\n",
      "TDVEPVVSDFAATGRTGRRNALPDILG-STAGPGA-ADLPDKLA...KTE Q5SPN9_DANRE/2-74\n",
      "MEVESSYSDFISCDRTGRRNAVPDIQGDSEAV--SVRKLAGDMG...NTS IPKG_MOUSE/2-75\n",
      "MDVEASYSDFINCDRTGRRNAVPDITREGEQVPASTSELAKDMA...ELE Q4S692_TETNG/2-76\n",
      "TDVESTYADFIASGRTGRRNALHDILV-SSSSGNT-SELALKLS...KPE Q5BKM1_XENTR/2-75\n",
      "TDVESTYADFIASGRTGRRNALHDILV-SSPGGNS-SELALKLS...KQE IPKA_CHICK/2-75\n",
      "TDVETTYADFIASGRTGRRNAIHDILV-SSASGNS-NELALKLA...KSE IPKA_RAT/2-75\n",
      "TDVEPVVNNFASSARAGRRNAVPDIQG-STAAGGTLEELPVKLE...--K Q0VCK2_BOVIN/9-79\n",
      "TDVESVITSFASSARAGRRNALPDIQS-SLATSGS-SDLPLKLE...--K IPKB_MOUSE/23-92\n",
      "TDVESGVANFASSARAGRRNALPDIQS-SAATDGT-SDLPLKLE...--K Q5T0Z7_HUMAN/16-85\n",
      "___________________________________________________________________________\n",
      "9\n",
      "___________________________________________________________________________\n",
      "S\n",
      "___________________________________________________________________________\n",
      "SSSAAANTA\n",
      "___________________________________________________________________________\n",
      "MDVEASYSDFINCDRTGRRNAVPDITREGEQVPASTSELAKDMAEMDLKAAEGTA-GASPAPEAEAPPATMPRELE Q4S692_TETNG/2-76\n",
      "___________________________________________________________________________\n",
      "SingleLetterAlphabet() alignment with 3 rows and 11 columns\n",
      "TDVEPEGAKTE Q5SPN9_DANRE/2-74\n",
      "MEVESSDANTS IPKG_MOUSE/2-75\n",
      "MDVEAMPRELE Q4S692_TETNG/2-76\n"
     ]
    }
   ],
   "source": [
    "alnc = AlignIO.read(\"data/msa_pk_seed.sth\", \"stockholm\")\n",
    "print(alnc)\n",
    "print(\"___________________________________________________________________________\")\n",
    "\n",
    "# get the number of rows\n",
    "print(len(alnc))\n",
    "print(\"___________________________________________________________________________\")\n",
    "\n",
    "# Access a single sequence letter: Numpy indexing\n",
    "print(alnc[2,7]) # or pythonic alnc[2].seq[6]\n",
    "print(\"___________________________________________________________________________\")\n",
    "\n",
    "# get a single column as a string\n",
    "print(alnc[:,7])\n",
    "print(\"___________________________________________________________________________\")\n",
    "\n",
    "# get a single row as a string and print it with its id\n",
    "print(alnc[2].seq, alnc[2].id)\n",
    "print(\"___________________________________________________________________________\")\n",
    "\n",
    "# remove a block of columns \n",
    "print(alnc[:3,:5] + alnc[:3,70:])"
   ]
  },
  {
   "cell_type": "markdown",
   "metadata": {},
   "source": [
    "## Exercise 4:\n",
    "Assume you have a working environment defined as follows:\n",
    "2 \t 334878378 \t E \t 350 \t GNA...TEF"
   ]
  },
  {
   "cell_type": "code",
   "execution_count": 32,
   "metadata": {},
   "outputs": [],
   "source": [
    "from Bio.Alphabet import IUPAC\n",
    "from Bio.Seq import Seq\n",
    "protein = Seq(\"ERNAK\", IUPAC.protein)\n",
    "dna = Seq(\"CCGT\", IUPAC.unambiguous_dna)"
   ]
  },
  {
   "cell_type": "markdown",
   "metadata": {},
   "source": [
    "What is the result of the following commands? Can you explain why? "
   ]
  },
  {
   "cell_type": "code",
   "execution_count": 36,
   "metadata": {},
   "outputs": [],
   "source": [
    "# protein + dna\n",
    "# TypeError: Incompatible alphabets IUPACProtein() and IUPACUnambiguousDNA()\n",
    "\n",
    "# protein.complement()\n",
    "# ValueError: Proteins do not have complements!"
   ]
  },
  {
   "cell_type": "markdown",
   "metadata": {},
   "source": [
    "Can a MutableSeq object be a key in a dictionary data structure?\n",
    "\n",
    "Unlike normal python strings and our basic sequence object (the Seq class) which are immutable, the MutableSeq lets you edit the sequence in place. However, this means you cannot use a MutableSeq object as a dictionary key."
   ]
  },
  {
   "cell_type": "markdown",
   "metadata": {
    "nbpresent": {
     "id": "3d0996f4-2d65-4773-b1f0-f3d382e5eae4"
    }
   },
   "source": [
    "## Exercise 5\n",
    "Write a function that for the 1ATP_ncbi.fasta file outputs the following:"
   ]
  },
  {
   "cell_type": "code",
   "execution_count": 62,
   "metadata": {
    "scrolled": true
   },
   "outputs": [
    {
     "name": "stdout",
     "output_type": "stream",
     "text": [
      "Record \t ID \t Chain \t Length \t Sequence\n",
      "gi|349840|pdb|1ATP|I 20 TTY...IHD\n",
      "gi|334878378|pdb|1ATP|E 350 GNA...TEF\n"
     ]
    }
   ],
   "source": [
    "with open(\"data/1ATP_ncbi.fasta\", \"r\") as handle:\n",
    "    print(\"Record \\t ID \\t Chain \\t Length \\t Sequence\")\n",
    "    for record in SeqIO.parse(handle, \"fasta\"):\n",
    "        print(record.id, len(record.seq), \n",
    "              record.seq[:3]+\"...\"+record.seq[-3:])"
   ]
  },
  {
   "cell_type": "code",
   "execution_count": null,
   "metadata": {
    "nbpresent": {
     "id": "2d6566d9-62dc-427b-88b5-65e0a9913428"
    }
   },
   "outputs": [],
   "source": [
    "File:  data/1ATP_ncbi.fasta\n",
    "Records:  2\n",
    "-----------------------------------------------------\n",
    "Record    ID    Chain    Length    Sequence\n",
    "1    349840      I     20    TTY...IHD\n",
    "2    334878378   E     350   GNA...TEF"
   ]
  },
  {
   "cell_type": "markdown",
   "metadata": {
    "collapsed": true,
    "nbpresent": {
     "id": "c6e8d03b-3085-4544-9f18-1c23a2f87c17"
    }
   },
   "source": [
    "### Exercise 6\n",
    "\n",
    "Write a function that filters all records from the in_fasta file satisfying:\n",
    "\n",
    "1.) length of sequences is higher that 600\n",
    "\n",
    "2.) the sequence doesn't have unknown nucleotides (\"N\")\n",
    "\n",
    "The result is printed in the out_fasta file. The arguments represent the file_names. \n",
    "Test the function on the example2.fasta file. \n",
    "\n"
   ]
  },
  {
   "cell_type": "code",
   "execution_count": 89,
   "metadata": {},
   "outputs": [],
   "source": [
    "def fasta_filter(in_fasta, out_fasta, length):\n",
    "    with open(in_fasta, \"r\") as handle:\n",
    "        with open(out_fasta, \"w\") as f:\n",
    "            for record in SeqIO.parse(handle, \"fasta\"):\n",
    "                if (len(record) >= length and record.seq.count(\"N\")!=0):\n",
    "                    SeqIO.write([record], f, \"fasta\")\n",
    "\n",
    "fasta_filter(\"data/example2.fasta\", \"data/output/out_fasta.fasta\", 600)"
   ]
  },
  {
   "cell_type": "code",
   "execution_count": 90,
   "metadata": {},
   "outputs": [
    {
     "name": "stdout",
     "output_type": "stream",
     "text": [
      "Record \t ID \t Chain \t Length \t Sequence\n",
      "gi|2765649|emb|Z78524.1|CFZ78524 740 CGT...AGC\n",
      "gi|2765607|emb|Z78482.1|PEZ78482 629 TCT...GCA\n",
      "gi|2765600|emb|Z78475.1|PSZ78475 716 CGT...GGT\n",
      "gi|2765587|emb|Z78462.1|PSZ78462 736 CGT...CAT\n",
      "gi|2765579|emb|Z78454.1|PFZ78454 695 CGT...AAC\n",
      "gi|2765573|emb|Z78448.1|PAZ78448 742 CGT...AGG\n",
      "gi|2765568|emb|Z78443.1|PLZ78443 784 CGT...AGG\n"
     ]
    }
   ],
   "source": [
    "with open(\"data/output/out_fasta.fasta\", \"r\") as handle:\n",
    "    print(\"Record \\t ID \\t Chain \\t Length \\t Sequence\")\n",
    "    for record in SeqIO.parse(handle, \"fasta\"):\n",
    "        print(record.id, len(record.seq), \n",
    "              record.seq[:3]+\"...\"+record.seq[-3:])"
   ]
  },
  {
   "cell_type": "code",
   "execution_count": null,
   "metadata": {},
   "outputs": [],
   "source": []
  }
 ],
 "metadata": {
  "anaconda-cloud": {},
  "kernelspec": {
   "display_name": "Python 3",
   "language": "python",
   "name": "python3"
  },
  "language_info": {
   "codemirror_mode": {
    "name": "ipython",
    "version": 3
   },
   "file_extension": ".py",
   "mimetype": "text/x-python",
   "name": "python",
   "nbconvert_exporter": "python",
   "pygments_lexer": "ipython3",
   "version": "3.6.5"
  }
 },
 "nbformat": 4,
 "nbformat_minor": 1
}
