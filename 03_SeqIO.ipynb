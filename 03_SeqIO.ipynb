{
 "cells": [
  {
   "cell_type": "markdown",
   "metadata": {
    "nbpresent": {
     "id": "3125fb4b-4369-41f2-9ce9-cb24865090c8"
    }
   },
   "source": [
    "# SeqIO"
   ]
  },
  {
   "cell_type": "markdown",
   "metadata": {
    "nbpresent": {
     "id": "b50acbd1-c5b5-45cc-a8a9-179e7527e82f"
    }
   },
   "source": [
    "Manipulating nucleotide and protein sequences\n",
    "- manipulating simple files (e.g., FASTA files) \n",
    "- mainpulating files with rich meta data annotation (genbank file format)\n",
    "\n",
    "Biopython has an API for IO of sequences (__Bio.SeqIO__) and __Bio.SeqRecord__ for accessing richly annoted data"
   ]
  },
  {
   "cell_type": "markdown",
   "metadata": {
    "nbpresent": {
     "id": "c5992808-112b-49a7-a093-4761bb4fe2df"
    }
   },
   "source": [
    "## The SeqIO object\n",
    "- supports different file formats\n",
    "- for example: clustal(aln), genbank(gb), pir, embl, fasta, ...\n",
    "- see [SeqIO wiki](http://biopython.org/wiki/SeqIO) for more information\n",
    "\n",
    "\n",
    "SeqIO provides four functions: \n",
    "- __parse()__: iteratively parse all elements in the file\n",
    "- __read()__: parse a one-element file and return the element\n",
    "- __write()__: write elements to a file\n",
    "- __convert()__: parse one format and immediately write another\n",
    "\n",
    "SeqIO manipulates sequences as __Seqrecord__ objects\n",
    "Alignments (Bio.AlignIo), Blast results (Bio.Blast), and phylogenetic trees(Bio.Phylo) use the same input/output conventions"
   ]
  },
  {
   "cell_type": "markdown",
   "metadata": {
    "nbpresent": {
     "id": "1b07724c-984e-478b-b8a7-2784d89d84f8"
    }
   },
   "source": [
    "## The SeqRecord object\n",
    "SeqRecord is a common object for sequence file entries\n",
    "- wraps a __Seq__ object\n",
    "- attaches _metadata_ (like identifiers and annotation)\n",
    "- Suitable for richly annotated sequence (like data from gb and embl files)\n"
   ]
  },
  {
   "cell_type": "markdown",
   "metadata": {
    "nbpresent": {
     "id": "15860ea1-bfac-4ecd-9392-82ea961b90c8"
    }
   },
   "source": [
    "### Attributes of a SeqRecord object:\n",
    "- __seq__ the sequence itself, typically (Bio.Seq) object\n",
    "- __id__ primary ID for the sequence (string), typically an accession number\n",
    "- __name__ \"common\" name for the sequence (LOCUS id in gb files)\n",
    "- __description__ human-readible description of the sequence\n",
    "- __letter_annotations__ dictionary of additional info about individual letters in the sequence (like quality scores, secondary structure information)\n",
    "- __annotations__ dictionary of additional unstructured info\n",
    "- __features__ list of __SeqFeature__ objects with more structured information (like position of genes on a genome and domains on  a protein sequence)\n",
    "- __dbxrefs__ list of database cross-references(strings)"
   ]
  },
  {
   "cell_type": "markdown",
   "metadata": {
    "nbpresent": {
     "id": "da53bf83-2d21-4265-957f-8d0b09ab3d9d"
    }
   },
   "source": [
    "### Creation of SeqRecord objects:\n",
    "#### 1.) From scratch: directly setting the attributes:\n"
   ]
  },
  {
   "cell_type": "code",
   "execution_count": null,
   "metadata": {
    "nbpresent": {
     "id": "bf1bbcd1-b130-4f64-b524-d51d973a0593"
    }
   },
   "outputs": [],
   "source": [
    "from Bio.Seq import Seq\n",
    "from Bio.SeqRecord import SeqRecord\n",
    "simple_seq = Seq(\"GATC\")\n",
    "simple_seq_r = SeqRecord(simple_seq)\n",
    "simple_seq_r.id = \"AC12345\" # id is important for outputting the record to a file\n",
    "print(simple_seq_r) # all other attributes are empty or unknown\n",
    "\n",
    "# set annotations (is a python dictionary)\n",
    "simple_seq_r.annotations[\"evidence\"] = \"None. I just made it up.\"\n",
    "print(simple_seq_r.annotations)\n",
    "\n"
   ]
  },
  {
   "cell_type": "markdown",
   "metadata": {
    "nbpresent": {
     "id": "8e0337ca-530a-49c0-bb58-85d7c7ba0266"
    }
   },
   "source": [
    "#### 2.) From a sequence file \n",
    "### Bio.SeqIO.parse():\n",
    "1. Open the sequence file to obtain a handle\n",
    "2. Pass the handle to SeqIO.parse():\n",
    "   Arguments:\n",
    "     - file handle or file name\n",
    "     - file format (explicit specification)\n",
    "     - alphabet (optional)\n",
    "   Output: SeqRecord iterator\n",
    "3. Close the sequence file \n",
    "4. Display the content of the sequence records (via the iterator)\n",
    "\n",
    "__Note__: In python it is good practice to open files with the \"with\" statement to create a context manager. This has the advantage, that the file is properly closed (even if an exception was thrown). See [python's documentation on with](https://docs.python.org/3.5/reference/datamodel.html#context-managers) for more information."
   ]
  },
  {
   "cell_type": "code",
   "execution_count": null,
   "metadata": {
    "nbpresent": {
     "id": "79d18653-2f3c-4a96-98d7-3b5f7dc35f3b"
    }
   },
   "outputs": [],
   "source": [
    "from Bio import SeqIO\n",
    "with open(\"data/1ATP_ncbi.fasta\", \"r\") as in_file:\n",
    "    seq_rec_it = SeqIO.parse(in_file, \"fasta\")   \n",
    "    \n",
    "    # iterate through the records \n",
    "    for rec in seq_rec_it:\n",
    "        print(rec.id, len(rec.seq), rec.seq[:10] + \"...\")\n",
    "        \n",
    "   \n",
    "    "
   ]
  },
  {
   "cell_type": "code",
   "execution_count": null,
   "metadata": {
    "nbpresent": {
     "id": "86a264ed-0d22-480d-9f56-076d19107797"
    }
   },
   "outputs": [],
   "source": [
    "# or generate a list of record iterators\n",
    "with open(\"data/1ATP_ncbi.fasta\", \"r\") as in_file:\n",
    "   \n",
    "    recs = list(SeqIO.parse(in_file, \"fasta\"))\n",
    "    # and print only the first record\n",
    "    print(recs[0].id, len(recs[0].seq), recs[0].seq[:10] + \"...\") "
   ]
  },
  {
   "cell_type": "code",
   "execution_count": null,
   "metadata": {
    "nbpresent": {
     "id": "f1055e3b-8b98-4547-90ab-6e3a152ffd78"
    }
   },
   "outputs": [],
   "source": [
    "# or for small files, generate a dictionary from the input file\n",
    "with open(\"data/1ATP_ncbi.fasta\", \"r\") as in_file:\n",
    "    rec_dict = SeqIO.to_dict(SeqIO.parse(in_file, \"fasta\"))\n",
    "    # print the keys of the dictionary\n",
    "    print(rec_dict.keys())"
   ]
  },
  {
   "cell_type": "markdown",
   "metadata": {
    "nbpresent": {
     "id": "66eeb8a8-9d66-4e62-8921-7b045e8c5eed"
    }
   },
   "source": [
    "\n",
    "### Bio.SeqIO.read():\n",
    "- Same arguments as Bio.SeqIO.parse()\n",
    "- use it when you know, that your file only contains one record!\n",
    "- returns a single Bio.SeqRecord object\n",
    "\n",
    "Example: Parsing a genbank file with rich text format"
   ]
  },
  {
   "cell_type": "code",
   "execution_count": null,
   "metadata": {
    "nbpresent": {
     "id": "a3d767a1-fa26-479c-a8d6-f11f5c610611"
    }
   },
   "outputs": [],
   "source": [
    "from Bio import SeqIO\n",
    "\n",
    "# using SeqIO's parse method to get the length of the sequence of the record\n",
    "print(sum([len(r) for r in SeqIO.parse(\"data/single_record.gbk\", \"genbank\")]))\n",
    "\n",
    "# using SeqIO's read nethod to get the length of the sequence \n",
    "record = SeqIO.read(\"data/single_record.gbk\", \"genbank\")\n",
    "print(len(record.seq))\n",
    "\n",
    "print(record)"
   ]
  },
  {
   "cell_type": "markdown",
   "metadata": {
    "nbpresent": {
     "id": "7121aa6f-0934-48fa-8e05-7fb222476283"
    }
   },
   "source": [
    "## Bio.SeqIO API: writing into a file\n",
    "### Bio.SeqIO.write():\n",
    "- Arguments: SeqRecord-s, file handle (file name), file format\n",
    "- Output: number of written records"
   ]
  },
  {
   "cell_type": "code",
   "execution_count": null,
   "metadata": {
    "nbpresent": {
     "id": "c6a34e6f-9ce2-474e-b841-44c95def99a1"
    }
   },
   "outputs": [],
   "source": [
    "from Bio import SeqIO\n",
    "from Bio.Seq import Seq\n",
    "from Bio.SeqRecord import SeqRecord\n",
    "seq_r = SeqRecord(Seq(\"GATC\"))\n",
    "print(SeqIO.write(seq_r, \"data/output/gatc.fasta\", \"fasta\"))"
   ]
  },
  {
   "cell_type": "markdown",
   "metadata": {
    "nbpresent": {
     "id": "782d4890-c7f3-4976-a5ee-cc4081be9b17"
    }
   },
   "source": [
    "### Bio.SeqIO.convert():\n",
    "- Arguments: file name, converted file name, file format\n",
    "- Output: number of converted records\n"
   ]
  },
  {
   "cell_type": "code",
   "execution_count": null,
   "metadata": {
    "nbpresent": {
     "id": "bcfc1b57-c747-4f41-8f05-ede12eacfba8"
    }
   },
   "outputs": [],
   "source": [
    "count = SeqIO.convert(\"data/single_record.gbk\", \"genbank\", \"data/output/conversion.fasta\", \"fasta\")\n",
    "print(\"Number of converted records: \", count)"
   ]
  },
  {
   "cell_type": "markdown",
   "metadata": {
    "nbpresent": {
     "id": "a5a1ff80-8c12-4e20-be46-311fce8d83ee"
    }
   },
   "source": [
    "## Bio.SeqIO API: Analysing sequence files\n",
    "\n",
    "Statistics:"
   ]
  },
  {
   "cell_type": "code",
   "execution_count": null,
   "metadata": {
    "nbpresent": {
     "id": "2350931c-ba4c-49b9-8e64-ecbb0bb01491"
    }
   },
   "outputs": [],
   "source": [
    "sizes = [len(r) for r in SeqIO.parse(\"data/example1.fasta\", \"fasta\")]\n",
    "print(len(sizes), min(sizes), max(sizes))\n",
    "print(sizes)"
   ]
  },
  {
   "cell_type": "markdown",
   "metadata": {
    "nbpresent": {
     "id": "17988c27-f115-4aeb-8a15-c4d2fcf1b495"
    }
   },
   "source": [
    "### Example: Plotting a histogram of sequence lengths: "
   ]
  },
  {
   "cell_type": "code",
   "execution_count": null,
   "metadata": {
    "nbpresent": {
     "id": "f48f982a-8c47-4d40-bf7a-f354392c3d0b"
    }
   },
   "outputs": [],
   "source": [
    "from matplotlib import pyplot as plt\n",
    "plt.hist(sizes, bins = 10)\n",
    "plt.title(\"{0} sequences \\n sequence lengths {1} to {2}\".format(len(sizes), min(sizes), max(sizes)))\n",
    "plt.xlabel(\"Sequence length\")\n",
    "plt.ylabel(\"Count\")\n",
    "plt.show()\n"
   ]
  },
  {
   "cell_type": "markdown",
   "metadata": {
    "nbpresent": {
     "id": "997f00e9-05b2-43d6-b122-125cebf55689"
    }
   },
   "source": [
    "### Plotting GC content over all sequences:"
   ]
  },
  {
   "cell_type": "code",
   "execution_count": null,
   "metadata": {
    "nbpresent": {
     "id": "591a04b2-7602-4566-90be-c532b74a26ee"
    }
   },
   "outputs": [],
   "source": [
    "from Bio.SeqUtils import GC\n",
    "val = sorted(GC(r.seq) for r in SeqIO.parse(\"data/example1.fasta\", \"fasta\"))\n",
    "plt.plot(val)\n",
    "plt.title(\"{0} sequences \\n GC content {1} to {2}\".format(len(val), min(val), max(val)))\n",
    "plt.xlabel(\"Genes\")\n",
    "plt.ylabel(\"% GC content\")\n",
    "plt.show()"
   ]
  },
  {
   "cell_type": "markdown",
   "metadata": {
    "collapsed": true,
    "nbpresent": {
     "id": "822a5c31-652b-4ce1-ae48-26128fa1785c"
    }
   },
   "source": [
    "# AlignIO\n",
    "\n",
    "## Alignment\n",
    "- Set of sequences with the __same length __ and __alphabet__\n",
    "- Different formats, e.g., clustal, stockholm and fasta\n",
    "\n",
    "## Bio.AlignIO\n",
    "- Multiple sequence alignment input / output interface\n",
    "- One/ more sequence alignments represented as alignment objects\n",
    "- Bio.SeqIO names for supported file formats and API"
   ]
  },
  {
   "cell_type": "code",
   "execution_count": null,
   "metadata": {
    "nbpresent": {
     "id": "bd368bb6-f0e2-4d6e-9209-b47c8955b5c2"
    }
   },
   "outputs": [],
   "source": [
    "from Bio import AlignIO\n",
    "aln = AlignIO.read(\"data/msa2.aln\", \"clustal\")\n",
    "print(aln)"
   ]
  },
  {
   "cell_type": "code",
   "execution_count": null,
   "metadata": {
    "nbpresent": {
     "id": "2c0b6991-c858-4372-a7b7-3d9688ba172c"
    }
   },
   "outputs": [],
   "source": [
    "aln"
   ]
  },
  {
   "cell_type": "markdown",
   "metadata": {
    "nbpresent": {
     "id": "d6758c1c-a56b-48e9-879e-4f0bd3bb0a9d"
    }
   },
   "source": [
    "### Alignment input\n",
    "- Functions: read(), parse()\n",
    "- Arguments: file handle, file format, seq_count, alphabet\n",
    "- Output: (iterator to) MultipleSeqAlignment object(s)"
   ]
  },
  {
   "cell_type": "code",
   "execution_count": null,
   "metadata": {
    "nbpresent": {
     "id": "61deabce-c0f0-43c5-9483-4fcbfe34d7e7"
    }
   },
   "outputs": [],
   "source": [
    "aln1 = AlignIO.read(\"data/msa_pk_seed.sth\", \"stockholm\")\n",
    "print(\"Alignment length: \", aln1.get_alignment_length())"
   ]
  },
  {
   "cell_type": "code",
   "execution_count": null,
   "metadata": {
    "nbpresent": {
     "id": "5d1776d9-cfb6-487d-ac19-5d0e464039c7"
    }
   },
   "outputs": [],
   "source": [
    "for raln in aln1:\n",
    "    print(raln.seq[:5] + \"...\" + raln.seq[50:], \"\\t\",  raln.id)"
   ]
  },
  {
   "cell_type": "code",
   "execution_count": null,
   "metadata": {
    "nbpresent": {
     "id": "a90e0350-4bfd-49d0-a41b-b5fa4f6cc964"
    }
   },
   "outputs": [],
   "source": [
    "# parsing a stockholm (PFAM) format (containing rich annotation)\n",
    "aln2 = AlignIO.read(\"data/msa_pk_rp15.sth\", \"stockholm\")\n",
    "print(\"Alignment length: \", aln2.get_alignment_length())"
   ]
  },
  {
   "cell_type": "code",
   "execution_count": null,
   "metadata": {
    "nbpresent": {
     "id": "073902b0-a202-457f-a4f4-7e2925b849ca"
    }
   },
   "outputs": [],
   "source": [
    "for i, raln in enumerate(aln2):\n",
    "    tmp =\"\"\n",
    "    if raln.dbxrefs:\n",
    "        tmp = raln.dbxrefs[0]\n",
    "    if i < 9:\n",
    "        print(raln.seq[:5] + \"...\" + raln.seq[76:],\"\\t\", raln.id, \"\\t\", tmp)"
   ]
  },
  {
   "cell_type": "markdown",
   "metadata": {
    "nbpresent": {
     "id": "cba91772-c6e3-4a15-91e5-261dd45ff197"
    }
   },
   "source": [
    "### Alignment output\n",
    "- Formatted output to a file \n",
    "- Functions: write()\n",
    "- Arguments: alignment-s, file handle, file format\n",
    "\n",
    "\n"
   ]
  },
  {
   "cell_type": "code",
   "execution_count": null,
   "metadata": {
    "nbpresent": {
     "id": "2d497549-fe32-4347-b3cd-8c97d2d57d94"
    }
   },
   "outputs": [],
   "source": [
    "from Bio.Alphabet import generic_dna\n",
    "from Bio.Seq import Seq\n",
    "from Bio.SeqRecord import SeqRecord\n",
    "from Bio.Align import MultipleSeqAlignment\n",
    "from Bio import AlignIO\n",
    "\n",
    "# create the alignment objects from scratch\n",
    "al1 = MultipleSeqAlignment([\n",
    "        SeqRecord(Seq(\"ACTGCTAGCTAG\", generic_dna), id = \"id1\"),\n",
    "        SeqRecord(Seq(\"ACT-CTAGCTAG\", generic_dna), id = \"id2\"),])\n",
    "\n",
    "al2 = MultipleSeqAlignment([\n",
    "        SeqRecord(Seq(\"GTCAGC-AG\", generic_dna), id = \"id3\"),\n",
    "        SeqRecord(Seq(\"GACAGCTAG\", generic_dna), id = \"id4\")])\n",
    "\n",
    "# make a list wut tge alignment objects\n",
    "alignments = [al1, al2]\n",
    "print(\"Number of written Alignments: \", AlignIO.write(alignments, \"data/output/alignments.fasta\", \"fasta\"))"
   ]
  },
  {
   "cell_type": "code",
   "execution_count": null,
   "metadata": {
    "nbpresent": {
     "id": "5f63a96a-6089-4086-a3ca-b4006796ea22"
    }
   },
   "outputs": [],
   "source": [
    "# get the alignment in clustal format\n",
    "print(aln1.format(\"clustal\"))"
   ]
  },
  {
   "cell_type": "code",
   "execution_count": null,
   "metadata": {
    "nbpresent": {
     "id": "a629e359-cf73-4049-b419-cd5639d134ef"
    }
   },
   "outputs": [],
   "source": [
    "# File format conversions\n",
    "count = AlignIO.convert(\"data/msa_pk_seed.sth\", \"stockholm\", \"data/output/msa_pk_seed.aln\", \"clustal\")\n",
    "print(\"Converted alignments: \", count)\n",
    "\n",
    "# or via AlignIO.read() and AlignIO.write() methods:\n",
    "alnc = AlignIO.parse(\"data/msa_pk_seed.sth\", \"stockholm\")\n",
    "count2 = AlignIO.write(alnc, \"data/output/ms_pk_seed.aln\", \"clustal\")"
   ]
  },
  {
   "cell_type": "markdown",
   "metadata": {
    "nbpresent": {
     "id": "0d1e24a2-9b84-486f-8912-22c8942f1683"
    }
   },
   "source": [
    "### Manipulating alignments"
   ]
  },
  {
   "cell_type": "code",
   "execution_count": null,
   "metadata": {
    "nbpresent": {
     "id": "507583d2-d048-4dd4-89c9-b8c5c1d31d8b"
    }
   },
   "outputs": [],
   "source": [
    "alnc = AlignIO.read(\"data/msa_pk_seed.sth\", \"stockholm\")\n",
    "print(alnc)\n",
    "print(\"___________________________________________________________________________\")\n",
    "\n",
    "# get the number of rows\n",
    "print(len(alnc))\n",
    "print(\"___________________________________________________________________________\")\n",
    "\n",
    "# Access a single sequence letter: Numpy indexing\n",
    "print(alnc[2,7]) # or pythonic alnc[2].seq[6]\n",
    "print(\"___________________________________________________________________________\")\n",
    "\n",
    "# get a single column as a string\n",
    "print(alnc[:,7])\n",
    "print(\"___________________________________________________________________________\")\n",
    "\n",
    "# get a single row as a string and print it with its id\n",
    "print(alnc[2].seq, alnc[2].id)\n",
    "print(\"___________________________________________________________________________\")\n",
    "\n",
    "# remove a block of columns \n",
    "print(alnc[:3,:5] + alnc[:3,70:])"
   ]
  },
  {
   "cell_type": "markdown",
   "metadata": {},
   "source": [
    "## Exercise 4:\n",
    "Assume you have a working environment defined as follows:\n",
    "2 \t 334878378 \t E \t 350 \t GNA...TEF"
   ]
  },
  {
   "cell_type": "code",
   "execution_count": null,
   "metadata": {
    "collapsed": true
   },
   "outputs": [],
   "source": [
    "from Bio.Alphabet import IUPAC\n",
    "from Bio.Seq import Seq\n",
    "protein = Seq(\"ERNAK\", IUPAC.protein)\n",
    "dna = Seq(\"CCGT\", IUPAC.unambiguous_dna)"
   ]
  },
  {
   "cell_type": "markdown",
   "metadata": {},
   "source": [
    "What is the result of the following commands? Can you explain why? "
   ]
  },
  {
   "cell_type": "code",
   "execution_count": null,
   "metadata": {},
   "outputs": [],
   "source": [
    "protein + dna\n",
    "protein.complement()"
   ]
  },
  {
   "cell_type": "markdown",
   "metadata": {},
   "source": [
    "Can a MutableSeq object be a key in a dictionary data structure?"
   ]
  },
  {
   "cell_type": "markdown",
   "metadata": {
    "nbpresent": {
     "id": "3d0996f4-2d65-4773-b1f0-f3d382e5eae4"
    }
   },
   "source": [
    "## Exercise 5\n",
    "Write a function that for the 1ATP_ncbi.fasta file outputs the following:"
   ]
  },
  {
   "cell_type": "code",
   "execution_count": null,
   "metadata": {
    "nbpresent": {
     "id": "2d6566d9-62dc-427b-88b5-65e0a9913428"
    }
   },
   "outputs": [],
   "source": [
    "File:  data/1ATP_ncbi.fasta\n",
    "Records:  2\n",
    "-----------------------------------------------------\n",
    "Record    ID    Chain    Length    Sequence\n",
    "1    349840      I     20    TTY...IHD\n",
    "2    334878378   E     350   GNA...TEF"
   ]
  },
  {
   "cell_type": "markdown",
   "metadata": {
    "collapsed": true,
    "nbpresent": {
     "id": "c6e8d03b-3085-4544-9f18-1c23a2f87c17"
    }
   },
   "source": [
    "### Exercise 6\n",
    "\n",
    "Write a function that filters all records from the in_fasta file satisfying:\n",
    "\n",
    "1.) length of sequences is higher that 600\n",
    "\n",
    "2.) the sequence doesn't have unknown nucleotides (\"N\")\n",
    "\n",
    "The result is printed in the out_fasta file. The arguments represent the file_names. \n",
    "Test the function on the example2.fasta file. \n",
    "\n"
   ]
  }
 ],
 "metadata": {
  "anaconda-cloud": {},
  "kernelspec": {
   "display_name": "Python 3",
   "language": "python3",
   "name": "python3"
  },
  "language_info": {
   "codemirror_mode": {
    "name": "ipython",
    "version": 3
   },
   "file_extension": ".py",
   "mimetype": "text/x-python",
   "name": "python",
   "nbconvert_exporter": "python",
   "pygments_lexer": "ipython3",
   "version": "3.6.5"
  }
 },
 "nbformat": 4,
 "nbformat_minor": 1
}
