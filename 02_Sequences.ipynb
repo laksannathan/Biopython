{
 "cells": [
  {
   "cell_type": "markdown",
   "metadata": {},
   "source": [
    "# II. Sequences"
   ]
  },
  {
   "cell_type": "markdown",
   "metadata": {},
   "source": [
    "## Biology \n",
    "- Sequence ~ ordered collection of letters representign a directed molecular chain\n",
    "- Sequence alphabet:\n",
    "    - DNA: A, C, G, T\n",
    "    - RNA: A, C, G, U\n",
    "    - Proteins: 20 single letter codes\n",
    "  \n",
    "    \n",
    "\n",
    "## Bioinformatics\n",
    "- String generally means a sequence of characters\n",
    "- Python strings are often a good model\n",
    "\n",
    "- Sequences are written using a standard nucleotide alphabet\n",
    "- IUPAC defined alphabets\n",
    "- Protein and DNA / RNA alphabets\n",
    "- Biopython: alphabets can be set\n",
    "- Extraction of IUPAC definitions for DNA: \n",
    "\n",
    "| Symbol        | Description   |\n",
    "|:-------------:|:-------------:| \n",
    "| A             | Adenine       | \n",
    "| C             | Cytosine      |   \n",
    "| G             | Guanine       | \n",
    "| T             | Thymine       |\n",
    "| N             | aNy base      |\n",
    "| R             | A or G (puRine)|\n",
    "| Y             | C or T (pYrimidine|\n",
    "| M             | A or C (aMino) |\n",
    "| S             | C or G (Strong)|\n",
    "\n",
    "\n",
    "- Biopython introduces the Seq object (Bio.Seq)\n"
   ]
  },
  {
   "cell_type": "markdown",
   "metadata": {},
   "source": [
    "# Bio.Seq\n",
    "- __data__: the underlying Python character string\n",
    "- __alphabet__: DNA, RNA, protein, etc.:\n",
    "    - two-fold importance:\n",
    "        1. Type of information stored in the Seq object\n",
    "        2. Information constraint, as a means of type checking\n",
    "    - Bio.Alphabet.IUPAC: basic/ extend/ customized definitions for DNA/ RNA/ proteins\n",
    "    - Initialization without explicit alphabet means generic alphabet\n",
    "- READ-ONLY (IMMUTABLE)"
   ]
  },
  {
   "cell_type": "code",
   "execution_count": 1,
   "metadata": {},
   "outputs": [
    {
     "data": {
      "text/plain": [
       "Seq('AGTACACTGGT')"
      ]
     },
     "execution_count": 1,
     "metadata": {},
     "output_type": "execute_result"
    }
   ],
   "source": [
    "from Bio.Seq import Seq\n",
    "my_seq = Seq('AGTACACTGGT')\n",
    "my_seq"
   ]
  },
  {
   "cell_type": "code",
   "execution_count": 2,
   "metadata": {},
   "outputs": [
    {
     "name": "stdout",
     "output_type": "stream",
     "text": [
      "ATGGCCATTGTAATGGGCCGCTGAAAGGGTGCCCGATAG  with the alphabet:  IUPACUnambiguousDNA()\n"
     ]
    }
   ],
   "source": [
    "from Bio.Alphabet import IUPAC\n",
    "dna = Seq('ATGGCCATTGTAATGGGCCGCTGAAAGGGTGCCCGATAG', IUPAC.unambiguous_dna) # basic DNA Alphabet\n",
    "print(dna, \" with the alphabet: \", dna.alphabet)"
   ]
  },
  {
   "cell_type": "markdown",
   "metadata": {},
   "source": [
    "### a)The Seq object: Sequences act like strings \n",
    "--> support for most Python string methods:"
   ]
  },
  {
   "cell_type": "code",
   "execution_count": 3,
   "metadata": {},
   "outputs": [
    {
     "name": "stdout",
     "output_type": "stream",
     "text": [
      "index: 0 with letter:A\n",
      "index: 1 with letter:G\n",
      "index: 2 with letter:T\n",
      "index: 3 with letter:A\n",
      "index: 4 with letter:C\n",
      "index: 5 with letter:A\n",
      "index: 6 with letter:C\n",
      "index: 7 with letter:T\n",
      "index: 8 with letter:G\n",
      "index: 9 with letter:G\n",
      "index: 10 with letter:T\n"
     ]
    }
   ],
   "source": [
    "# occurrences of a substring\n",
    "# my_seq.count(\"GT\")\n",
    "\n",
    "# counts non-overlapping:\n",
    "\"AAAA\".count(\"AA\")\n",
    "#Seq(\"AAAA\").count(\"AA\")\n",
    "\n",
    "# length of the sequence\n",
    "# len(dna)\n",
    "\n",
    "# finds the position of a substring\n",
    "# dna.find(\"TATAT\")\n",
    "\n",
    "# concatenation\n",
    "# dna[:12] + '---'+ dna[15:] \n",
    "\n",
    "# changing the case\n",
    "#dna.lower()\n",
    "\n",
    "# string output formatting:\n",
    "for index, letter in enumerate(my_seq):\n",
    "    print(\"index: {0} with letter:{1}\".format(index, letter))\n",
    "\n"
   ]
  },
  {
   "cell_type": "markdown",
   "metadata": {},
   "source": [
    "## About strands...\n",
    "__DNA coding strand (aka Crick strand, strand +1)__\n",
    "\n",
    "5’ ATGGCCATTGTAATGGGCCGCTGAAAGGGTGCCCGATAG\t3’\n",
    "  \n",
    "3’ TACCGGTAACATTACCCGGCGACTTTCCCACGGGCTATC\t5’\n",
    "\n",
    "__DNA template strand (aka Watson strand, strand −1)__\n",
    " \n",
    " \n",
    "__through Transcription__: __Single stranded messenger RNA__\n",
    " \t\t \n",
    " \n",
    "5’\tAUGGCCAUUGUAAUGGGCCGCUGAAAGGGUGCCCGAUAG\t3’\n",
    " \t \n",
    " \n",
    "- keep in mind: sequences are always shown in 5' to 3' direction\n",
    "- biological transcription: takes template strand (does a reverse complement) in order to obtain mRNA\n",
    "- bioinformatics: uses coding strand (only switch of T-> U to get mRNA)\n",
    " "
   ]
  },
  {
   "cell_type": "markdown",
   "metadata": {},
   "source": [
    "### b) The Seq object: biological relevant methods\n",
    "--> support for some biologically specific methods:"
   ]
  },
  {
   "cell_type": "code",
   "execution_count": 4,
   "metadata": {},
   "outputs": [
    {
     "name": "stdout",
     "output_type": "stream",
     "text": [
      "ATGGCCATTGTAATGGGCCGCTGAAAGGGTGCCCGATAG\n",
      "TACCGGTAACATTACCCGGCGACTTTCCCACGGGCTATC\n",
      "CTATCGGGCACCCTTTCAGCGGCCCATTACAATGGCCAT\n"
     ]
    }
   ],
   "source": [
    "print(dna) # coding strand 5' to 3'\n",
    "print(dna.complement())# get the complement strand\n",
    "print(dna.reverse_complement()) # the template strand "
   ]
  },
  {
   "cell_type": "code",
   "execution_count": 5,
   "metadata": {},
   "outputs": [
    {
     "name": "stdout",
     "output_type": "stream",
     "text": [
      "AUGGCCAUUGUAAUGGGCCGCUGAAAGGGUGCCCGAUAG\n",
      "rna's alphabet  IUPACUnambiguousRNA()  consists of following letters:  GAUC\n"
     ]
    }
   ],
   "source": [
    "# transcription\n",
    "rna = dna.transcribe() # uses the coding strand (T-> U)\n",
    "print(rna)\n",
    "print(\"rna's alphabet \", rna.alphabet, \" consists of following letters: \", rna.alphabet.letters)"
   ]
  },
  {
   "cell_type": "code",
   "execution_count": 6,
   "metadata": {},
   "outputs": [
    {
     "name": "stdout",
     "output_type": "stream",
     "text": [
      "MAIVMGR*KGAR* HasStopCodon(IUPACProtein(), '*')\n"
     ]
    }
   ],
   "source": [
    "# translation\n",
    "protein = rna.translate()\n",
    "print(protein, protein.alphabet)"
   ]
  },
  {
   "cell_type": "code",
   "execution_count": 7,
   "metadata": {},
   "outputs": [
    {
     "name": "stdout",
     "output_type": "stream",
     "text": [
      "MAIVMGR*KGAR* HasStopCodon(IUPACProtein(), '*')\n"
     ]
    }
   ],
   "source": [
    "dna2 = Seq('ATGGCCATTGTAATGGGCCGCTGAAAGGGTGCCCGATAG', IUPAC.unambiguous_dna)\n",
    "\n",
    "#direct translation is possible\n",
    "protein2 = dna2.translate()\n",
    "print(protein2, protein2.alphabet)\n"
   ]
  },
  {
   "cell_type": "markdown",
   "metadata": {},
   "source": [
    "- there are different translation tables (genetic codes available) in biopython\n",
    "- they are based on the NCBI's tables found here [NCBI's translation tables](https://www.ncbi.nlm.nih.gov/Taxonomy/Utils/wprintgc.cgi)\n",
    "- if you have a mitochondrial sequence you should use mitochondrial translation table\n"
   ]
  },
  {
   "cell_type": "code",
   "execution_count": 8,
   "metadata": {},
   "outputs": [
    {
     "data": {
      "text/plain": [
       "Seq('MAIVMGRWKGAR*', HasStopCodon(IUPACProtein(), '*'))"
      ]
     },
     "execution_count": 8,
     "metadata": {},
     "output_type": "execute_result"
    }
   ],
   "source": [
    "dna2.translate(table=\"Vertebrate Mitochondrial\") #default 1 (NCBI table id), 2 is Vertebrate Mitochondrial"
   ]
  },
  {
   "cell_type": "code",
   "execution_count": 9,
   "metadata": {},
   "outputs": [
    {
     "name": "stdout",
     "output_type": "stream",
     "text": [
      "MAIVMGR\n",
      "MAIVMGRWKGAR\n"
     ]
    }
   ],
   "source": [
    "# since there are two stop codons as in nature you want to stop at the first one:\n",
    "print(dna2.translate(to_stop=True))\n",
    "\n",
    "print(dna2.translate(to_stop=True, table=\"2\"))"
   ]
  },
  {
   "cell_type": "markdown",
   "metadata": {},
   "source": [
    "### Comparing sequences\n",
    "- not always easy\n",
    "- Biopython: equality also depends on the alphabet used:"
   ]
  },
  {
   "cell_type": "code",
   "execution_count": 10,
   "metadata": {},
   "outputs": [],
   "source": [
    "# same sequences but different alphabets\n",
    "seq1 = Seq(\"ACGT\", IUPAC.unambiguous_dna) \n",
    "seq2 = Seq(\"ACGT\", IUPAC.ambiguous_dna)\n",
    "seq3 = Seq(\"ACGT\", IUPAC.unambiguous_dna) "
   ]
  },
  {
   "cell_type": "code",
   "execution_count": 11,
   "metadata": {},
   "outputs": [
    {
     "name": "stdout",
     "output_type": "stream",
     "text": [
      "True\n",
      "True\n"
     ]
    }
   ],
   "source": [
    "# compare the strings\n",
    "print(str(seq1) == str(seq2))\n",
    "print(str(seq1) == str(seq1))"
   ]
  },
  {
   "cell_type": "code",
   "execution_count": 12,
   "metadata": {},
   "outputs": [
    {
     "name": "stdout",
     "output_type": "stream",
     "text": [
      "True\n",
      "False\n"
     ]
    }
   ],
   "source": [
    "# compare objects: Biopython only compares strings not taken alphabet into account\n",
    "print(seq1 == seq3)\n",
    "\n",
    "# typical id function of python\n",
    "print(id(seq1) == id(seq3)) # seq1 and seq3 are different objects"
   ]
  },
  {
   "cell_type": "code",
   "execution_count": 13,
   "metadata": {},
   "outputs": [
    {
     "name": "stdout",
     "output_type": "stream",
     "text": [
      "True\n"
     ]
    },
    {
     "name": "stderr",
     "output_type": "stream",
     "text": [
      "c:\\users\\laksa\\appdata\\local\\programs\\python\\python36-32\\lib\\site-packages\\Bio\\Seq.py:208: BiopythonWarning: Incompatible alphabets DNAAlphabet() and ProteinAlphabet()\n",
      "  BiopythonWarning)\n"
     ]
    }
   ],
   "source": [
    "# compare different molecules - triggers a warning\n",
    "from Bio.Alphabet import generic_dna, generic_protein\n",
    "dna_seq = Seq(\"ACGT\", generic_dna)\n",
    "prot_seq = Seq(\"ACGT\", generic_protein)\n",
    "print(dna_seq == prot_seq)"
   ]
  },
  {
   "cell_type": "markdown",
   "metadata": {},
   "source": [
    "# MutableSeq\n",
    "\n",
    "- remember: Bio.Seq objects are __IMMUTABLE__:"
   ]
  },
  {
   "cell_type": "code",
   "execution_count": 14,
   "metadata": {},
   "outputs": [
    {
     "ename": "TypeError",
     "evalue": "'Seq' object does not support item assignment",
     "output_type": "error",
     "traceback": [
      "\u001b[1;31m---------------------------------------------------------------------------\u001b[0m",
      "\u001b[1;31mTypeError\u001b[0m                                 Traceback (most recent call last)",
      "\u001b[1;32m<ipython-input-14-ef70f80f566f>\u001b[0m in \u001b[0;36m<module>\u001b[1;34m\u001b[0m\n\u001b[0;32m      1\u001b[0m \u001b[0mmy_seq\u001b[0m \u001b[1;33m=\u001b[0m \u001b[0mSeq\u001b[0m\u001b[1;33m(\u001b[0m\u001b[1;34m\"ACCT\"\u001b[0m\u001b[1;33m,\u001b[0m \u001b[0mIUPAC\u001b[0m\u001b[1;33m.\u001b[0m\u001b[0munambiguous_dna\u001b[0m\u001b[1;33m)\u001b[0m\u001b[1;33m\u001b[0m\u001b[0m\n\u001b[1;32m----> 2\u001b[1;33m \u001b[0mmy_seq\u001b[0m\u001b[1;33m[\u001b[0m\u001b[1;36m1\u001b[0m\u001b[1;33m]\u001b[0m \u001b[1;33m=\u001b[0m \u001b[1;34m\"G\"\u001b[0m\u001b[1;33m\u001b[0m\u001b[0m\n\u001b[0m",
      "\u001b[1;31mTypeError\u001b[0m: 'Seq' object does not support item assignment"
     ]
    }
   ],
   "source": [
    "my_seq = Seq(\"ACCT\", IUPAC.unambiguous_dna)\n",
    "my_seq[1] = \"G\""
   ]
  },
  {
   "cell_type": "code",
   "execution_count": 21,
   "metadata": {},
   "outputs": [
    {
     "name": "stdout",
     "output_type": "stream",
     "text": [
      "<class 'Bio.Seq.Seq'>\n",
      "<class 'Bio.Seq.MutableSeq'>\n",
      "ACCT IUPACUnambiguousDNA()\n",
      "AGCT\n",
      "TCGA\n",
      "AGCT\n"
     ]
    }
   ],
   "source": [
    "# modifiable Seq object is needed\n",
    "my_mod_seq = my_seq.tomutable()\n",
    "print(type(my_seq))\n",
    "print(type(my_mod_seq))\n",
    "\n",
    "from Bio.Seq import MutableSeq\n",
    "# you can also directly create from a string\n",
    "m = MutableSeq(\"ACCT\", IUPAC.unambiguous_dna)\n",
    "print(m, m.alphabet)\n",
    "\n",
    "# modify sequence \n",
    "m[1] = \"G\"\n",
    "print(m)\n",
    "#print sequence in reverse order\n",
    "print(m[::-1])\n",
    "\n",
    "# convert it back to immutable seq\n",
    "n = m.toseq()\n",
    "print(n)"
   ]
  },
  {
   "cell_type": "markdown",
   "metadata": {},
   "source": [
    "## Exercises"
   ]
  },
  {
   "cell_type": "markdown",
   "metadata": {},
   "source": [
    "## Exercise 1:\n",
    "Count the number of A's, C', G's and T's of the sequence \"seq\" below. It contains the whole genome of *H.influenzae*. Compute the relative abundances of each nucleotide. What do you observe?"
   ]
  },
  {
   "cell_type": "code",
   "execution_count": 28,
   "metadata": {},
   "outputs": [
    {
     "name": "stdout",
     "output_type": "stream",
     "text": [
      "1830138\n"
     ]
    }
   ],
   "source": [
    "# only evaluate this cell ONCE !!!\n",
    "from Bio import Entrez, SeqIO\n",
    "from Bio.Seq import Seq\n",
    "\n",
    "# we will se later how this works in detail\n",
    "Entrez.email = 'A.N.Other@example.com'\n",
    "handle = Entrez.efetch(db=\"nucleotide\", id=\"NC_000907\", rettype=\"fasta\", retmode=\"text\")\n",
    "record = SeqIO.read(handle, \"fasta\")\n",
    "\n",
    "# here is the sequence you should use for testing your function\n",
    "seq = record.seq\n",
    "print(len(seq))"
   ]
  },
  {
   "cell_type": "code",
   "execution_count": 42,
   "metadata": {},
   "outputs": [
    {
     "name": "stdout",
     "output_type": "stream",
     "text": [
      "A count:  567623\n",
      "C count:  350723\n",
      "G count:  347436\n",
      "T count:  564241\n",
      "Rel. abundance A:  0.3101531141367482\n",
      "Rel. abundance C:  0.19163746121877148\n",
      "Rel. abundance G:  0.18984142179442207\n",
      "Rel. abundance T:  0.3083051660585158\n"
     ]
    }
   ],
   "source": [
    "#count A's, C's, G's and T's:\n",
    "Ac = seq.count(\"A\")\n",
    "Cc = seq.count(\"C\")\n",
    "Gc = seq.count(\"G\")\n",
    "Tc = seq.count(\"T\")\n",
    "\n",
    "#print out absolute counts\n",
    "print('A count: ', Ac)\n",
    "print('C count: ', Cc)\n",
    "print('G count: ', Gc)\n",
    "print('T count: ', Tc)\n",
    "\n",
    "#print out relative abundances\n",
    "print(\"Rel. abundance A: \", Ac/len(seq))\n",
    "print(\"Rel. abundance C: \", Cc/len(seq))\n",
    "print(\"Rel. abundance G: \", Gc/len(seq))\n",
    "print(\"Rel. abundance T: \", Tc/len(seq))"
   ]
  },
  {
   "cell_type": "markdown",
   "metadata": {},
   "source": [
    "## Exercise 2:\n",
    "Write a function to compute the GC content of a sequence (which is of type Bio.Seq). Compute the GC content of the following sequence and compare it with the result Biopython’s Bio.SeqUtils.GC() of the module Bio.SeqUtils method gives. \n"
   ]
  },
  {
   "cell_type": "code",
   "execution_count": 43,
   "metadata": {},
   "outputs": [],
   "source": [
    "def compute_GC_content(seq):\n",
    "    gc = sum(seq.count(x) for x in ['G', 'C', 'g', 'c', 'S', 's']) \n",
    "    try: \n",
    "        return gc * 100.0 / len(seq) \n",
    "    except ZeroDivisionError: \n",
    "        return 0.0"
   ]
  },
  {
   "cell_type": "code",
   "execution_count": 45,
   "metadata": {},
   "outputs": [
    {
     "name": "stdout",
     "output_type": "stream",
     "text": [
      "59.09090909090909\n",
      "59.09090909090909\n"
     ]
    }
   ],
   "source": [
    "seq2 = Seq(\"CTAACCAGCAGCACGACSCACCCTTCCAACGACCCSATAACAGC\", IUPAC.ambiguous_dna)\n",
    "# call your function and compare with Bio.SeqUtils method\n",
    "print(compute_GC_content(seq2))\n",
    "\n",
    "import Bio.SeqUtils as utl\n",
    "print(utl.GC(seq2))"
   ]
  },
  {
   "cell_type": "markdown",
   "metadata": {},
   "source": [
    "## Exercise 3:\n",
    "Given the following dna sequence, how would true biological transcription work in Biopython? \n",
    " "
   ]
  },
  {
   "cell_type": "code",
   "execution_count": 47,
   "metadata": {},
   "outputs": [
    {
     "data": {
      "text/plain": [
       "Seq('CUAUCGGGCACCCUUUCAGCGGCCCAUUACAAUGGCCAU', IUPACUnambiguousRNA())"
      ]
     },
     "execution_count": 47,
     "metadata": {},
     "output_type": "execute_result"
    }
   ],
   "source": [
    "dna2 = Seq('ATGGCCATTGTAATGGGCCGCTGAAAGGGTGCCCGATAG', IUPAC.unambiguous_dna)\n",
    "# your solution goes here:\n",
    "m_rna = dna2.reverse_complement().transcribe()\n",
    "m_rna"
   ]
  }
 ],
 "metadata": {
  "anaconda-cloud": {},
  "kernelspec": {
   "display_name": "Python 3",
   "language": "python",
   "name": "python3"
  },
  "language_info": {
   "codemirror_mode": {
    "name": "ipython",
    "version": 3
   },
   "file_extension": ".py",
   "mimetype": "text/x-python",
   "name": "python",
   "nbconvert_exporter": "python",
   "pygments_lexer": "ipython3",
   "version": "3.6.5"
  }
 },
 "nbformat": 4,
 "nbformat_minor": 1
}
