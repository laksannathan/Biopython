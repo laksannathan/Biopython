{
 "cells": [
  {
   "cell_type": "markdown",
   "metadata": {},
   "source": [
    "# Querying NCBI's databases"
   ]
  },
  {
   "cell_type": "markdown",
   "metadata": {
    "collapsed": true
   },
   "source": [
    "### Entrez Programming Utilities (EUtils)\n",
    "\n",
    "- 9 server-side programs\n",
    "- stable interface into the NCBI's Entrez system\n",
    "- see [EUtils](https://www.ncbi.nlm.nih.gov/books/NBK25501/) for more information\n",
    "\n",
    "### Entrez\n",
    "- query and database system\n",
    "- 39 NCBI databases such as PubMed and GenBank\n",
    "- Help and more information: [Entrez Help](https://www.ncbi.nlm.nih.gov/books/NBK3837/#EntrezHelp.The_Entrez_Databases)\n",
    "\n",
    "- Access:\n",
    "    - Manual via web browser: [Entrez](https://www.ncbi.nlm.nih.gov/gquery/)\n",
    "    - Programmatic via __Bio.Entrez__ module\n",
    "    \n",
    "    \n",
    "#### Understanding EUtils\n",
    "Entrez databases:\n",
    "- EUtils accesses data already in the Entrez system\n",
    "- Entrez identifies database records using unique identifiers (UIDs)\n",
    "    - e.g., GI numbers for Nucleotide and Protein, PMIDs for PubMed\n",
    "    - EUtils use UIDs for both data input and output\n",
    "    \n",
    "Utilities\n",
    "- __ESearch__ (EGQuery): list of matching UIDs in a (all) database\n",
    "- __ESummary__: summary record for each UID\n",
    "- __EInfo__: database statistics\n",
    "- __EPost__: UID uploads\n",
    "- __EFetch__: data record downloads\n",
    "- __ELink__: Entrez links\n",
    "- __ESpell__: spelling suggestions\n",
    "- __ECitMatch__: batch citation search in PubMed\n"
   ]
  },
  {
   "cell_type": "markdown",
   "metadata": {},
   "source": [
    "### Biopython's Entrez module (Bio.Entrez)\n",
    "Bio.Entrez API uses EUtils:\n",
    "    - __Python functions__ for eight EUtils tools\n",
    "    - __Parser__ for the EUtils's XML output\n",
    "takes care that:\n",
    "    - the correct URL is used for the queries\n",
    "    - __NCBI requirement__: not more than one request is made every three seconds\n",
    "Attributes ( requried by Entrez):\n",
    "- email (contact of user)\n",
    "- tool (default is 'biopython'"
   ]
  },
  {
   "cell_type": "markdown",
   "metadata": {},
   "source": [
    "## 1.) einfo"
   ]
  },
  {
   "cell_type": "code",
   "execution_count": null,
   "metadata": {
    "collapsed": true
   },
   "outputs": [],
   "source": [
    "from Bio import Entrez\n",
    "Entrez.email = \"A.N.Other@example.com\" # tell NCBI who you are\n",
    "# use the einfo tool\n",
    "handle = Entrez.einfo()"
   ]
  },
  {
   "cell_type": "code",
   "execution_count": null,
   "metadata": {},
   "outputs": [],
   "source": [
    "# read the information\n",
    "result = handle.read()\n",
    "# list of databases in XML format\n",
    "print(result)"
   ]
  },
  {
   "cell_type": "code",
   "execution_count": null,
   "metadata": {},
   "outputs": [],
   "source": [
    "handle = Entrez.einfo()\n",
    "\n",
    "# or parse the data \n",
    "record = Entrez.read(handle)\n",
    "\n",
    "# print the dictionary's keys\n",
    "print(record.keys())"
   ]
  },
  {
   "cell_type": "code",
   "execution_count": null,
   "metadata": {},
   "outputs": [],
   "source": [
    "# get the entries --> all databases available\n",
    "print(record[\"DbList\"])"
   ]
  },
  {
   "cell_type": "code",
   "execution_count": null,
   "metadata": {},
   "outputs": [],
   "source": [
    "# get information about a specific database\n",
    "record2 = Entrez.read(Entrez.einfo(db=\"pubmed\"))\n",
    "print(record2[\"DbInfo\"][\"Description\"])"
   ]
  },
  {
   "cell_type": "code",
   "execution_count": null,
   "metadata": {},
   "outputs": [],
   "source": [
    "record2[\"DbInfo\"][\"Count\"]"
   ]
  },
  {
   "cell_type": "markdown",
   "metadata": {},
   "source": [
    "## 2.) esearch/ esummary\n",
    "Query a specific Entrez database"
   ]
  },
  {
   "cell_type": "code",
   "execution_count": null,
   "metadata": {},
   "outputs": [],
   "source": [
    "# Search PubMed for biopython-related publications\n",
    "handle = Entrez.esearch(db=\"pubmed\", term=\"biopython\")\n",
    "record = Entrez.read(handle)\n",
    "print(\"Number of found publications: \", record[\"Count\"])\n",
    "print(record[\"IdList\"])"
   ]
  },
  {
   "cell_type": "markdown",
   "metadata": {},
   "source": [
    "Retrieving summaries from UIDs"
   ]
  },
  {
   "cell_type": "code",
   "execution_count": null,
   "metadata": {},
   "outputs": [],
   "source": [
    "handle = Entrez.esummary(db= \"pubmed\", id=\"12230038\" )\n",
    "record = Entrez.read(handle)\n",
    "record[0][\"Id\"]"
   ]
  },
  {
   "cell_type": "code",
   "execution_count": null,
   "metadata": {},
   "outputs": [],
   "source": [
    "print(\"Publication title: \", record[0][\"Title\"], \" publication date: \", record[0][\"PubDate\"])"
   ]
  },
  {
   "cell_type": "markdown",
   "metadata": {},
   "source": [
    "## 3.) efetch\n",
    "Request and download data records"
   ]
  },
  {
   "cell_type": "code",
   "execution_count": null,
   "metadata": {},
   "outputs": [],
   "source": [
    "from Bio import SeqIO\n",
    "\n",
    "handle = Entrez.efetch(db=\"protein\", id=\"349839\", rettype=\"gb\")\n",
    "record = SeqIO.read(handle, \"gb\")\n",
    "handle.close()\n",
    "print(record)"
   ]
  },
  {
   "cell_type": "code",
   "execution_count": null,
   "metadata": {},
   "outputs": [],
   "source": [
    "# or query with multiple UIDs\n",
    "handle = Entrez.efetch(db=\"protein\", id=\"349839, 349840\", rettype=\"fasta\")\n",
    "records = SeqIO.parse(handle, \"fasta\")"
   ]
  },
  {
   "cell_type": "code",
   "execution_count": null,
   "metadata": {},
   "outputs": [],
   "source": [
    "# save the record in a file before parsing so you don' t have to get it each time\n",
    "import os \n",
    "file_name = \"data/output/M27569.gbk\"\n",
    "if not os.path.isfile(file_name):\n",
    "    net_handle = Entrez.efetch(db='nucleotide', id='M27569', rettype='gb' )\n",
    "    out_handle = open(file_name, \"w\")\n",
    "    out_handle.write(net_handle.read())\n",
    "    out_handle.close()\n",
    "    net_handle.close()\n",
    "record = SeqIO.read(file_name, \"genbank\")"
   ]
  },
  {
   "cell_type": "markdown",
   "metadata": {},
   "source": [
    " #### An example:"
   ]
  },
  {
   "cell_type": "code",
   "execution_count": null,
   "metadata": {},
   "outputs": [],
   "source": [
    "from Bio import Entrez, Seq, SeqIO\n",
    "from Bio.Alphabet import generic_protein\n",
    "\n",
    "Entrez.email = \"A.N.Other@example.com\" # tell NCBI who you are\n",
    "# get genbank record for a specific gene\n",
    "handle = Entrez.efetch(db=\"nucleotide\", id=\"M27569\", rettype=\"gb\")\n",
    "record = SeqIO.read(handle, \"gb\")\n",
    "handle.close()\n",
    "print(record)\n",
    "print(\"Lenght of record: \", len(record))\n",
    "print(\"Last 11% of the genome: \", record[24608:])\n",
    "print(record.features)\n",
    "\n",
    "# extract the protein sequences that the genome encodes\n",
    "translations = (f.qualifiers[\"translation\"] for f in record.features[1:])\n",
    "proteins = [Seq(t[0], generic_protein) for t in translations]\n",
    "print(proteins)"
   ]
  }
 ],
 "metadata": {
  "anaconda-cloud": {},
  "kernelspec": {
   "display_name": "Python 3",
   "language": "python3",
   "name": "python3"
  },
  "language_info": {
   "codemirror_mode": {
    "name": "ipython",
    "version": 3
   },
   "file_extension": ".py",
   "mimetype": "text/x-python",
   "name": "python",
   "nbconvert_exporter": "python",
   "pygments_lexer": "ipython3",
   "version": "3.6.5"
  }
 },
 "nbformat": 4,
 "nbformat_minor": 1
}
