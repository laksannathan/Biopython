{
 "cells": [
  {
   "cell_type": "markdown",
   "metadata": {},
   "source": [
    "# Querying NCBI's databases"
   ]
  },
  {
   "cell_type": "markdown",
   "metadata": {
    "collapsed": true
   },
   "source": [
    "### Entrez Programming Utilities (EUtils)\n",
    "\n",
    "- 9 server-side programs\n",
    "- stable interface into the NCBI's Entrez system\n",
    "- see [EUtils](https://www.ncbi.nlm.nih.gov/books/NBK25501/) for more information\n",
    "\n",
    "### Entrez\n",
    "- query and database system\n",
    "- 39 NCBI databases such as PubMed and GenBank\n",
    "- Help and more information: [Entrez Help](https://www.ncbi.nlm.nih.gov/books/NBK3837/#EntrezHelp.The_Entrez_Databases)\n",
    "\n",
    "- Access:\n",
    "    - Manual via web browser: [Entrez](https://www.ncbi.nlm.nih.gov/gquery/)\n",
    "    - Programmatic via __Bio.Entrez__ module\n",
    "    \n",
    "    \n",
    "#### Understanding EUtils\n",
    "Entrez databases:\n",
    "- EUtils accesses data already in the Entrez system\n",
    "- Entrez identifies database records using unique identifiers (UIDs)\n",
    "    - e.g., GI numbers for Nucleotide and Protein, PMIDs for PubMed\n",
    "    - EUtils use UIDs for both data input and output\n",
    "    \n",
    "Utilities\n",
    "- __ESearch__ (EGQuery): list of matching UIDs in a (all) database\n",
    "- __ESummary__: summary record for each UID\n",
    "- __EInfo__: database statistics\n",
    "- __EPost__: UID uploads\n",
    "- __EFetch__: data record downloads\n",
    "- __ELink__: Entrez links\n",
    "- __ESpell__: spelling suggestions\n",
    "- __ECitMatch__: batch citation search in PubMed\n"
   ]
  },
  {
   "cell_type": "markdown",
   "metadata": {},
   "source": [
    "### Biopython's Entrez module (Bio.Entrez)\n",
    "Bio.Entrez API uses EUtils:\n",
    "    - __Python functions__ for eight EUtils tools\n",
    "    - __Parser__ for the EUtils's XML output\n",
    "takes care that:\n",
    "    - the correct URL is used for the queries\n",
    "    - __NCBI requirement__: not more than one request is made every three seconds\n",
    "Attributes ( requried by Entrez):\n",
    "- email (contact of user)\n",
    "- tool (default is 'biopython'"
   ]
  },
  {
   "cell_type": "markdown",
   "metadata": {},
   "source": [
    "## 1.) einfo"
   ]
  },
  {
   "cell_type": "code",
   "execution_count": 1,
   "metadata": {},
   "outputs": [],
   "source": [
    "from Bio import Entrez\n",
    "Entrez.email = \"A.N.Other@example.com\" # tell NCBI who you are\n",
    "# use the einfo tool\n",
    "handle = Entrez.einfo()"
   ]
  },
  {
   "cell_type": "code",
   "execution_count": 2,
   "metadata": {},
   "outputs": [
    {
     "name": "stdout",
     "output_type": "stream",
     "text": [
      "<?xml version=\"1.0\" encoding=\"UTF-8\" ?>\n",
      "<!DOCTYPE eInfoResult PUBLIC \"-//NLM//DTD einfo 20130322//EN\" \"https://eutils.ncbi.nlm.nih.gov/eutils/dtd/20130322/einfo.dtd\">\n",
      "<eInfoResult>\n",
      "<DbList>\n",
      "\n",
      "\t<DbName>pubmed</DbName>\n",
      "\t<DbName>protein</DbName>\n",
      "\t<DbName>nuccore</DbName>\n",
      "\t<DbName>ipg</DbName>\n",
      "\t<DbName>nucleotide</DbName>\n",
      "\t<DbName>nucgss</DbName>\n",
      "\t<DbName>nucest</DbName>\n",
      "\t<DbName>structure</DbName>\n",
      "\t<DbName>sparcle</DbName>\n",
      "\t<DbName>genome</DbName>\n",
      "\t<DbName>annotinfo</DbName>\n",
      "\t<DbName>assembly</DbName>\n",
      "\t<DbName>bioproject</DbName>\n",
      "\t<DbName>biosample</DbName>\n",
      "\t<DbName>blastdbinfo</DbName>\n",
      "\t<DbName>books</DbName>\n",
      "\t<DbName>cdd</DbName>\n",
      "\t<DbName>clinvar</DbName>\n",
      "\t<DbName>clone</DbName>\n",
      "\t<DbName>gap</DbName>\n",
      "\t<DbName>gapplus</DbName>\n",
      "\t<DbName>grasp</DbName>\n",
      "\t<DbName>dbvar</DbName>\n",
      "\t<DbName>gene</DbName>\n",
      "\t<DbName>gds</DbName>\n",
      "\t<DbName>geoprofiles</DbName>\n",
      "\t<DbName>homologene</DbName>\n",
      "\t<DbName>medgen</DbName>\n",
      "\t<DbName>mesh</DbName>\n",
      "\t<DbName>ncbisearch</DbName>\n",
      "\t<DbName>nlmcatalog</DbName>\n",
      "\t<DbName>omim</DbName>\n",
      "\t<DbName>orgtrack</DbName>\n",
      "\t<DbName>pmc</DbName>\n",
      "\t<DbName>popset</DbName>\n",
      "\t<DbName>probe</DbName>\n",
      "\t<DbName>proteinclusters</DbName>\n",
      "\t<DbName>pcassay</DbName>\n",
      "\t<DbName>biosystems</DbName>\n",
      "\t<DbName>pccompound</DbName>\n",
      "\t<DbName>pcsubstance</DbName>\n",
      "\t<DbName>seqannot</DbName>\n",
      "\t<DbName>snp</DbName>\n",
      "\t<DbName>sra</DbName>\n",
      "\t<DbName>taxonomy</DbName>\n",
      "\t<DbName>biocollections</DbName>\n",
      "\t<DbName>unigene</DbName>\n",
      "\t<DbName>gencoll</DbName>\n",
      "\t<DbName>gtr</DbName>\n",
      "</DbList>\n",
      "\n",
      "</eInfoResult>\n",
      "\n"
     ]
    }
   ],
   "source": [
    "# read the information\n",
    "result = handle.read()\n",
    "# list of databases in XML format\n",
    "print(result)"
   ]
  },
  {
   "cell_type": "code",
   "execution_count": 3,
   "metadata": {},
   "outputs": [
    {
     "name": "stdout",
     "output_type": "stream",
     "text": [
      "dict_keys(['DbList'])\n"
     ]
    }
   ],
   "source": [
    "handle = Entrez.einfo()\n",
    "\n",
    "# or parse the data \n",
    "record = Entrez.read(handle)\n",
    "\n",
    "# print the dictionary's keys\n",
    "print(record.keys())"
   ]
  },
  {
   "cell_type": "code",
   "execution_count": 4,
   "metadata": {},
   "outputs": [
    {
     "name": "stdout",
     "output_type": "stream",
     "text": [
      "['pubmed', 'protein', 'nuccore', 'ipg', 'nucleotide', 'nucgss', 'nucest', 'structure', 'sparcle', 'genome', 'annotinfo', 'assembly', 'bioproject', 'biosample', 'blastdbinfo', 'books', 'cdd', 'clinvar', 'clone', 'gap', 'gapplus', 'grasp', 'dbvar', 'gene', 'gds', 'geoprofiles', 'homologene', 'medgen', 'mesh', 'ncbisearch', 'nlmcatalog', 'omim', 'orgtrack', 'pmc', 'popset', 'probe', 'proteinclusters', 'pcassay', 'biosystems', 'pccompound', 'pcsubstance', 'seqannot', 'snp', 'sra', 'taxonomy', 'biocollections', 'unigene', 'gencoll', 'gtr']\n"
     ]
    }
   ],
   "source": [
    "# get the entries --> all databases available\n",
    "print(record[\"DbList\"])"
   ]
  },
  {
   "cell_type": "code",
   "execution_count": 5,
   "metadata": {},
   "outputs": [
    {
     "name": "stdout",
     "output_type": "stream",
     "text": [
      "PubMed bibliographic record\n"
     ]
    }
   ],
   "source": [
    "# get information about a specific database\n",
    "record2 = Entrez.read(Entrez.einfo(db=\"pubmed\"))\n",
    "print(record2[\"DbInfo\"][\"Description\"])"
   ]
  },
  {
   "cell_type": "code",
   "execution_count": 6,
   "metadata": {},
   "outputs": [
    {
     "data": {
      "text/plain": [
       "'29528432'"
      ]
     },
     "execution_count": 6,
     "metadata": {},
     "output_type": "execute_result"
    }
   ],
   "source": [
    "record2[\"DbInfo\"][\"Count\"]"
   ]
  },
  {
   "cell_type": "markdown",
   "metadata": {},
   "source": [
    "## 2.) esearch/ esummary\n",
    "Query a specific Entrez database"
   ]
  },
  {
   "cell_type": "code",
   "execution_count": 7,
   "metadata": {},
   "outputs": [
    {
     "name": "stdout",
     "output_type": "stream",
     "text": [
      "Number of found publications:  24\n",
      "['30013827', '29641230', '28011774', '24929426', '24497503', '24267035', '24194598', '23842806', '23157543', '22909249', '22399473', '21666252', '21210977', '20015970', '19811691', '19773334', '19304878', '18606172', '21585724', '16403221']\n"
     ]
    }
   ],
   "source": [
    "# Search PubMed for biopython-related publications\n",
    "handle = Entrez.esearch(db=\"pubmed\", term=\"biopython\")\n",
    "record = Entrez.read(handle)\n",
    "print(\"Number of found publications: \", record[\"Count\"])\n",
    "print(record[\"IdList\"])"
   ]
  },
  {
   "cell_type": "markdown",
   "metadata": {},
   "source": [
    "Retrieving summaries from UIDs"
   ]
  },
  {
   "cell_type": "code",
   "execution_count": 8,
   "metadata": {},
   "outputs": [
    {
     "data": {
      "text/plain": [
       "'12230038'"
      ]
     },
     "execution_count": 8,
     "metadata": {},
     "output_type": "execute_result"
    }
   ],
   "source": [
    "handle = Entrez.esummary(db= \"pubmed\", id=\"12230038\" )\n",
    "record = Entrez.read(handle)\n",
    "record[0][\"Id\"]"
   ]
  },
  {
   "cell_type": "code",
   "execution_count": 9,
   "metadata": {},
   "outputs": [
    {
     "name": "stdout",
     "output_type": "stream",
     "text": [
      "Publication title:  The Bio* toolkits--a brief overview.  publication date:  2002 Sep\n"
     ]
    }
   ],
   "source": [
    "print(\"Publication title: \", record[0][\"Title\"], \" publication date: \", record[0][\"PubDate\"])"
   ]
  },
  {
   "cell_type": "markdown",
   "metadata": {},
   "source": [
    "## 3.) efetch\n",
    "Request and download data records"
   ]
  },
  {
   "cell_type": "code",
   "execution_count": 10,
   "metadata": {},
   "outputs": [
    {
     "name": "stdout",
     "output_type": "stream",
     "text": [
      "ID: 1ATP_E\n",
      "Name: 1ATP_E\n",
      "Description: Chain E, 2.2 Angstrom Refined Crystal Structure Of The Catalytic Subunit Of Camp-Dependent Protein Kinase Complexed With Mnatp And A Peptide Inhibitor\n",
      "Number of features: 26\n",
      "/topology=linear\n",
      "/data_file_division=ROD\n",
      "/date=24-SEP-2008\n",
      "/accessions=['1ATP_E']\n",
      "/db_source=pdb: molecule 1ATP, chain 69, release Aug 27, 2007; deposition: Jan 8, 1993; class: Transferase(Phosphotransferase); source: Mol_id: 1; Organism_scientific: Mus Musculus; Mol_id: 2; Organism_scientific: Mus Musculus; Exp. method: X-Ray Diffraction.\n",
      "/keywords=['']\n",
      "/source=Mus musculus (house mouse)\n",
      "/organism=Mus musculus\n",
      "/taxonomy=['Eukaryota', 'Metazoa', 'Chordata', 'Craniata', 'Vertebrata', 'Euteleostomi', 'Mammalia', 'Eutheria', 'Euarchontoglires', 'Glires', 'Rodentia', 'Sciurognathi', 'Muroidea', 'Muridae', 'Murinae', 'Mus', 'Mus']\n",
      "/references=[Reference(title='Expression of the catalytic subunit of cAMP-dependent protein kinase in Escherichia coli', ...), Reference(title='Crystal structure of the catalytic subunit of cyclic adenosine monophosphate-dependent protein kinase', ...), Reference(title='Crystal structure of the catalytic subunit of cAMP-dependent protein kinase complexed with MgATP and peptide inhibitor', ...), Reference(title='2.2 A refined crystal structure of the catalytic subunit of cAMP-dependent protein kinase complexed with MnATP and a peptide inhibitor', ...), Reference(title='2.0 Angstrom Refined Crystal Structure Of The Catalytic Subunit Of Camp-Dependent Protein Kinase Complexed With A Peptide Inhibitor And Detergent', ...), Reference(title='Direct Submission', ...)]\n",
      "/comment=[WARNING] On Jun 6, 2011 this sequence was replaced by\n",
      "gi:334878378.\n",
      "SEQRES.\n",
      "Seq('GNAAAAKKGSEQESVKEFLAKAKEDFLKKWETPSQNTAQLDQFDRIKTLGTGSF...TEF', IUPACProtein())\n"
     ]
    },
    {
     "name": "stderr",
     "output_type": "stream",
     "text": [
      "c:\\users\\laksa\\appdata\\local\\programs\\python\\python36-32\\lib\\site-packages\\Bio\\GenBank\\__init__.py:1093: BiopythonParserWarning: Dropping bond qualifier in feature location\n",
      "  warnings.warn(\"Dropping bond qualifier in feature location\", BiopythonParserWarning)\n"
     ]
    }
   ],
   "source": [
    "from Bio import SeqIO\n",
    "\n",
    "handle = Entrez.efetch(db=\"protein\", id=\"349839\", rettype=\"gb\")\n",
    "record = SeqIO.read(handle, \"gb\")\n",
    "handle.close()\n",
    "print(record)"
   ]
  },
  {
   "cell_type": "code",
   "execution_count": 11,
   "metadata": {},
   "outputs": [],
   "source": [
    "# or query with multiple UIDs\n",
    "handle = Entrez.efetch(db=\"protein\", id=\"349839, 349840\", rettype=\"fasta\")\n",
    "records = SeqIO.parse(handle, \"fasta\")"
   ]
  },
  {
   "cell_type": "code",
   "execution_count": 12,
   "metadata": {},
   "outputs": [],
   "source": [
    "# save the record in a file before parsing so you don' t have to get it each time\n",
    "import os \n",
    "file_name = \"data/output/M27569.gbk\"\n",
    "if not os.path.isfile(file_name):\n",
    "    net_handle = Entrez.efetch(db='nucleotide', id='M27569', rettype='gb' )\n",
    "    out_handle = open(file_name, \"w\")\n",
    "    out_handle.write(net_handle.read())\n",
    "    out_handle.close()\n",
    "    net_handle.close()\n",
    "record = SeqIO.read(file_name, \"genbank\")"
   ]
  },
  {
   "cell_type": "markdown",
   "metadata": {},
   "source": [
    " #### An example:"
   ]
  },
  {
   "cell_type": "code",
   "execution_count": 13,
   "metadata": {},
   "outputs": [
    {
     "name": "stdout",
     "output_type": "stream",
     "text": [
      "ID: M27569.1\n",
      "Name: M27569\n",
      "Description: Figure 3. 770-bp sequence of part of IBV cDNA clone C5 136\n",
      "Number of features: 1\n",
      "/molecule_type=DNA\n",
      "/topology=linear\n",
      "/data_file_division=UNA\n",
      "/date=04-AUG-1993\n",
      "/accessions=['M27569']\n",
      "/sequence_version=1\n",
      "/keywords=['']\n",
      "/source=unclassified\n",
      "/organism=unclassified unclassified.\n",
      "/taxonomy=[]\n",
      "/references=[Reference(title='sequencing of coronavirus ibv genomic rna: a 195-base open reading frame encoded by mrna b', ...)]\n",
      "/comment=[WARNING] On Feb 8, 2002 this sequence was replaced by M95169.1.\n",
      "Seq('TACCTTTCAAGTAGATAATGGAAAAGTCTACTACGAAGGAACACCAGTTTTCCA...GCC', IUPACAmbiguousDNA())\n",
      "Lenght of record:  771\n",
      "Last 11% of the genome:  ID: M27569.1\n",
      "Name: M27569\n",
      "Description: Figure 3. 770-bp sequence of part of IBV cDNA clone C5 136\n",
      "Number of features: 0\n",
      "Seq('', IUPACAmbiguousDNA())\n",
      "[SeqFeature(FeatureLocation(ExactPosition(0), ExactPosition(771), strand=1), type='source')]\n",
      "[]\n"
     ]
    }
   ],
   "source": [
    "from Bio import Entrez, Seq, SeqIO\n",
    "from Bio.Alphabet import generic_protein\n",
    "\n",
    "Entrez.email = \"A.N.Other@example.com\" # tell NCBI who you are\n",
    "# get genbank record for a specific gene\n",
    "handle = Entrez.efetch(db=\"nucleotide\", id=\"M27569\", rettype=\"gb\")\n",
    "record = SeqIO.read(handle, \"gb\")\n",
    "handle.close()\n",
    "print(record)\n",
    "print(\"Lenght of record: \", len(record))\n",
    "print(\"Last 11% of the genome: \", record[24608:])\n",
    "print(record.features)\n",
    "\n",
    "# extract the protein sequences that the genome encodes\n",
    "translations = (f.qualifiers[\"translation\"] for f in record.features[1:])\n",
    "proteins = [Seq(t[0], generic_protein) for t in translations]\n",
    "print(proteins)"
   ]
  },
  {
   "cell_type": "code",
   "execution_count": null,
   "metadata": {},
   "outputs": [],
   "source": []
  }
 ],
 "metadata": {
  "anaconda-cloud": {},
  "kernelspec": {
   "display_name": "Python 3",
   "language": "python",
   "name": "python3"
  },
  "language_info": {
   "codemirror_mode": {
    "name": "ipython",
    "version": 3
   },
   "file_extension": ".py",
   "mimetype": "text/x-python",
   "name": "python",
   "nbconvert_exporter": "python",
   "pygments_lexer": "ipython3",
   "version": "3.6.5"
  }
 },
 "nbformat": 4,
 "nbformat_minor": 1
}
