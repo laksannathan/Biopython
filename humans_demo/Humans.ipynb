{
 "cells": [
  {
   "cell_type": "code",
   "execution_count": 3,
   "metadata": {},
   "outputs": [],
   "source": [
    "#load modules\n",
    "from Bio import Entrez, Seq, SeqIO, pairwise2, Align\n",
    "import numpy as np\n",
    "\n",
    "#load nucleotide sequences from NCBI \n",
    "def get_seq(db, key, rettype=\"gb\"):\n",
    "    Entrez.email = \"A.N.Other@example.com\"\n",
    "    handle = Entrez.efetch(db=db, id=key, rettype=rettype)\n",
    "    return SeqIO.read(handle, \"gb\")"
   ]
  },
  {
   "cell_type": "markdown",
   "metadata": {},
   "source": [
    "## Call NCBI API"
   ]
  },
  {
   "cell_type": "code",
   "execution_count": 4,
   "metadata": {},
   "outputs": [],
   "source": [
    "#[welche daten werden geladen?]\n",
    "#hvr-1\n",
    "nea_1a = get_seq(\"nucleotide\", \"AF011222\")\n",
    "nea_1b = get_seq(\"nucleotide\", \"AF282971\")\n",
    "\n",
    "#[welche daten werden geladen?]\n",
    "#hvr-2\n",
    "nea_2a = get_seq(\"nucleotide\", \"AF142095\")\n",
    "nea_2b = get_seq(\"nucleotide\", \"AF282972\")"
   ]
  },
  {
   "cell_type": "code",
   "execution_count": 27,
   "metadata": {},
   "outputs": [],
   "source": [
    "n = 206 #known length\n",
    "\n",
    "nea_1 = nea_1a.seq + nea_1b.seq\n",
    "nea_2 = nea_2a.seq + nea_2b.seq"
   ]
  },
  {
   "cell_type": "markdown",
   "metadata": {},
   "source": [
    "## Local Alignments"
   ]
  },
  {
   "cell_type": "code",
   "execution_count": 33,
   "metadata": {},
   "outputs": [
    {
     "ename": "NameError",
     "evalue": "name 'MatrixInfo' is not defined",
     "output_type": "error",
     "traceback": [
      "\u001b[0;31m---------------------------------------------------------------------------\u001b[0m",
      "\u001b[0;31mNameError\u001b[0m                                 Traceback (most recent call last)",
      "\u001b[0;32m<ipython-input-33-f4e9a5bc8aac>\u001b[0m in \u001b[0;36m<module>\u001b[0;34m\u001b[0m\n\u001b[1;32m      5\u001b[0m \u001b[0maligner\u001b[0m \u001b[0;34m=\u001b[0m \u001b[0mAlign\u001b[0m\u001b[0;34m.\u001b[0m\u001b[0mPairwiseAligner\u001b[0m\u001b[0;34m(\u001b[0m\u001b[0;34m)\u001b[0m\u001b[0;34m\u001b[0m\u001b[0;34m\u001b[0m\u001b[0m\n\u001b[1;32m      6\u001b[0m \u001b[0maligner\u001b[0m\u001b[0;34m.\u001b[0m\u001b[0mmode\u001b[0m \u001b[0;34m=\u001b[0m \u001b[0;34m'local'\u001b[0m\u001b[0;34m\u001b[0m\u001b[0;34m\u001b[0m\u001b[0m\n\u001b[0;32m----> 7\u001b[0;31m \u001b[0maligner\u001b[0m\u001b[0;34m.\u001b[0m\u001b[0msubstitution_matrix\u001b[0m \u001b[0;34m=\u001b[0m \u001b[0mMatrixInfo\u001b[0m\u001b[0;34m.\u001b[0m\u001b[0mnuc44\u001b[0m\u001b[0;34m\u001b[0m\u001b[0;34m\u001b[0m\u001b[0m\n\u001b[0m\u001b[1;32m      8\u001b[0m \u001b[0;32mwith\u001b[0m \u001b[0mopen\u001b[0m\u001b[0;34m(\u001b[0m\u001b[0;34m\"d_loop.fasta\"\u001b[0m\u001b[0;34m,\u001b[0m \u001b[0;34m\"r\"\u001b[0m\u001b[0;34m)\u001b[0m \u001b[0;32mas\u001b[0m \u001b[0mhandle\u001b[0m\u001b[0;34m:\u001b[0m\u001b[0;34m\u001b[0m\u001b[0;34m\u001b[0m\u001b[0m\n\u001b[1;32m      9\u001b[0m     \u001b[0msequences\u001b[0m \u001b[0;34m=\u001b[0m \u001b[0;34m[\u001b[0m\u001b[0;34m]\u001b[0m\u001b[0;34m\u001b[0m\u001b[0;34m\u001b[0m\u001b[0m\n",
      "\u001b[0;31mNameError\u001b[0m: name 'MatrixInfo' is not defined"
     ]
    }
   ],
   "source": [
    "score = np.zeros(n)\n",
    "startat = np.zeros(n)\n",
    "\n",
    "\n",
    "aligner = Align.PairwiseAligner()\n",
    "aligner.mode = 'local'\n",
    "aligner.substitution_matrix = MatrixInfo.nuc44\n",
    "with open(\"d_loop.fasta\", \"r\") as handle:\n",
    "    sequences = []\n",
    "    d_loop = SeqIO.parse(handle, \"fasta\")\n",
    "    \"\"\"for seq in d_loop:\n",
    "        a = aligner.align(nea_1, seq.seq)\n",
    "        for i in a:\"\"\"\n",
    "    for seq in d_loop:\n",
    "        sequences.append(seq.seq)\n",
    "    sequences.append(nea_1)\n",
    "    sequences.append(nea_2)\n",
    "            \n",
    "        \n",
    "    \n",
    "        \n",
    "        \n",
    "            \n",
    "            \n",
    "\"\"\"\n",
    "from Bio import AlignIO\n",
    "handle = ...\n",
    "for a in AlignIO.parse(handle, \"fasta-m10\"):\n",
    "  assert len(a) == 2, \"Should be pairwise!\"\n",
    "  print(\"Alignment length %i\" % a.get_alignment_length())\n",
    "  for record in a:\n",
    "    print(\"%s %s %s\" % (record.seq, record.name, record.id))\n",
    "-----------------------------------------------------------------\n",
    ">>> from Bio import Align\n",
    ">>> aligner = Align.PairwiseAligner()\n",
    ">>> alignments = aligner.align(\"ACCGT\", \"ACG\")\n",
    ">>> for alignment in sorted(alignments):\n",
    "...     print(\"Score = %.1f:\" % alignment.score)\n",
    "...     print(alignment)\"\"\""
   ]
  },
  {
   "cell_type": "code",
   "execution_count": 24,
   "metadata": {},
   "outputs": [
    {
     "name": "stdout",
     "output_type": "stream",
     "text": [
      "736\n"
     ]
    }
   ],
   "source": [
    "print(len(nea_1))"
   ]
  },
  {
   "cell_type": "code",
   "execution_count": 41,
   "metadata": {},
   "outputs": [
    {
     "name": "stdout",
     "output_type": "stream",
     "text": [
      "SingleLetterAlphabet() alignment with 206 rows and 1600 columns\n",
      "GTAGCACACAGAATAAATTCCCCTTGCACACCCGATAAATCCGA...GAA Andalusia(AF382011).txt\n",
      "GTAGCACTCAGAATAAATTCCCCTTGCACACCCGATAAATCCGA...GAA Aust(AF346963).txt\n",
      "GTAGCACTACAGAATAATTCCCCTTGCACACCCGATAAATCCGA...AAT Aust(AF346964).txt\n",
      "GTAGCACTACAGATAAATTCCCCTTGCACACCCGATAAATCCGA...AAT Aust(AF346965).txt\n",
      "GTAGCACACAGAATAAATTCCCCTTGCACACCCGATAAATCCGA...GAA Aust(AY289051).txt\n",
      "GTAGCACTACAAATAAATTCCCCTTGCACACCCGATAAATCCGA...GAT Aust(AY289052).txt\n",
      "GTAGCACTACGAATAAATTCCCCTTGCACACCCGATAAATCCAA...GAA Aust(AY289053).txt\n",
      "GTAGCACTAAGAATAAATTCCCCTTGCACACCCGATAAATCCGA...GAA Aust(AY289054).txt\n",
      "GTAGCACTAAGAATAAATTCCCCTTGCACACCCGATAAATCCGA...GAA Aust(AY289055).txt\n",
      "GTAGCACTAAGAATAAATTCCCCTTGCACACCCGATAAATCCGA...GAA Aust(AY289056).txt\n",
      "GTAGCACTAAGAATAAATTCCCCTTGCACACCCGATAAATCCGA...GAA Aust(AY289057).txt\n",
      "GTAGCACTAAGAATAAATTCCCCTTGCACACCCGATAAATCCGA...GAA Aust(AY289058).txt\n",
      "GTAGCACTACAGAAAAATTCCCCTTGCACACCCGATAAATCCGA...ATC Aust(AY289059).txt\n",
      "GTAGCACTAAGAATAAATTCCCCTTGCACACCCGATAAATCCGA...GAA Aust(AY289060).txt\n",
      "GTAGCACACAGAATAAATTCCCCTTGCACACCCGATAAATCCGA...GAA Aust(AY289061).txt\n",
      "GTAGCACTCAGAATAAATTCCCCTTGCACACCCGATAAATCCGA...GAA Aust(AY289062).txt\n",
      "GTAGCACTCAGAATAAATTCCCCTTGCACACCCGATAAATCCGA...GAA Aust(AY289063).txt\n",
      "GTAGCACTCAGAATAAATTCCCCTTGCACACCCGATAAATCCGA...GAA Aust(AY289064).txt\n",
      "...\n",
      "GTAGCACTACGAATAAATTCCCCTTGCACACCCGATAAATCCGA...AAT Yoruba(AF347015).txt\n"
     ]
    }
   ],
   "source": [
    "from Bio.Alphabet import generic_dna\n",
    "from Bio.Seq import Seq\n",
    "from Bio.SeqRecord import SeqRecord\n",
    "from Bio.Align import MultipleSeqAlignment\n",
    "from Bio import AlignIO\n",
    "\n",
    "with open(\"d_loop.fasta\", \"r\") as handle:\n",
    "    sequences = []\n",
    "    d_loop = SeqIO.parse(handle, \"fasta\")\n",
    "    \"\"\"for seq in d_loop:\n",
    "        a = aligner.align(nea_1, seq.seq)\n",
    "        for i in a:\"\"\"\n",
    "    for seq in d_loop:\n",
    "        sequences.append(SeqRecord(seq.seq))\n",
    "    sequences.append(SeqRecord(nea_1))\n",
    "    \n",
    "al1 = AlignIO.read(open(\"d_loop.fasta\", \"r\"), \"fasta\")  \n",
    "print(al1)\n"
   ]
  },
  {
   "cell_type": "code",
   "execution_count": null,
   "metadata": {},
   "outputs": [],
   "source": []
  }
 ],
 "metadata": {
  "kernelspec": {
   "display_name": "Python 3",
   "language": "python",
   "name": "python3"
  },
  "language_info": {
   "codemirror_mode": {
    "name": "ipython",
    "version": 3
   },
   "file_extension": ".py",
   "mimetype": "text/x-python",
   "name": "python",
   "nbconvert_exporter": "python",
   "pygments_lexer": "ipython3",
   "version": "3.6.7"
  }
 },
 "nbformat": 4,
 "nbformat_minor": 2
}
