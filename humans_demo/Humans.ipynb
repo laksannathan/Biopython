{
 "cells": [
  {
   "cell_type": "code",
   "execution_count": 2,
   "metadata": {},
   "outputs": [],
   "source": [
    "#load modules\n",
    "from Bio import Entrez, Seq, SeqIO, pairwise2, Align\n",
    "import numpy as np\n",
    "\n",
    "#load nucleotide sequences from NCBI \n",
    "def get_seq(db, key, rettype=\"gb\"):\n",
    "    Entrez.email = \"A.N.Other@example.com\"\n",
    "    handle = Entrez.efetch(db=db, id=key, rettype=rettype)\n",
    "    return SeqIO.read(handle, \"gb\")"
   ]
  },
  {
   "cell_type": "markdown",
   "metadata": {},
   "source": [
    "## Call NCBI API"
   ]
  },
  {
   "cell_type": "code",
   "execution_count": 3,
   "metadata": {},
   "outputs": [],
   "source": [
    "#[welche daten werden geladen?]\n",
    "#hvr-1\n",
    "nea_1a = get_seq(\"nucleotide\", \"AF011222\")\n",
    "nea_1b = get_seq(\"nucleotide\", \"AF282971\")\n",
    "\n",
    "#[welche daten werden geladen?]\n",
    "#hvr-2\n",
    "nea_2a = get_seq(\"nucleotide\", \"AF142095\")\n",
    "nea_2b = get_seq(\"nucleotide\", \"AF282972\")"
   ]
  },
  {
   "cell_type": "code",
   "execution_count": 4,
   "metadata": {},
   "outputs": [],
   "source": [
    "n = 206 #known length\n",
    "\n",
    "nea_1 = nea_1a.seq + nea_2a.seq\n",
    "nea_2 = nea_1b.seq + nea_2b.seq"
   ]
  },
  {
   "cell_type": "markdown",
   "metadata": {},
   "source": [
    "## Local Alignments"
   ]
  },
  {
   "cell_type": "code",
   "execution_count": 38,
   "metadata": {
    "scrolled": true
   },
   "outputs": [
    {
     "ename": "IndentationError",
     "evalue": "unexpected indent (<ipython-input-38-03a780d47623>, line 15)",
     "output_type": "error",
     "traceback": [
      "\u001b[0;36m  File \u001b[0;32m\"<ipython-input-38-03a780d47623>\"\u001b[0;36m, line \u001b[0;32m15\u001b[0m\n\u001b[0;31m    \"\"\"for sr1, sr2 in product(seq,nea_1):\u001b[0m\n\u001b[0m    ^\u001b[0m\n\u001b[0;31mIndentationError\u001b[0m\u001b[0;31m:\u001b[0m unexpected indent\n"
     ]
    }
   ],
   "source": [
    "from Bio.pairwise2 import format_alignment\n",
    "from itertools import product\n",
    "score = np.zeros(n)\n",
    "startat = np.zeros(n)\n",
    "\n",
    "\n",
    "\n",
    "\"\"\"aligner.mode = 'local'\"\"\"\n",
    "with open(\"d_loop.fasta\", \"r\") as handle:\n",
    "    sequences = []\n",
    "    d_loop = SeqIO.parse(handle, \"fasta\")\n",
    "    for seq in d_loop:\n",
    "        aligner = pairwise2.align.localms(nea_1, seq, 5, -4, -8, -8)\n",
    "        print(format_alignment(*aligner[0]))\n",
    "        \"\"\"for sr1, sr2 in product(seq,nea_1):\n",
    "            for a in pairwise2.align.localms(str(seq[sr1].seq), str(nea_1[sr2].seq), 2, -1, -.5, -.1):\n",
    "                result.write(format_alignment(*a))\"\"\"\n",
    "\n",
    "        \"\"\"for i in a:\n",
    "            print(i)\"\"\"\n",
    "    \"\"\"for seq in d_loop:\n",
    "        sequences.append(seq.seq)\n",
    "    sequences.append(nea_1)\n",
    "    sequences.append(nea_2)\"\"\"\n",
    "            "
   ]
  },
  {
   "cell_type": "code",
   "execution_count": 87,
   "metadata": {},
   "outputs": [
    {
     "name": "stdout",
     "output_type": "stream",
     "text": [
      "modern human\n",
      "GGATAGACTCCCCCCAGTAGGTACCCCTGCTCT-TCCC-TA-A--ACTGACA-TTAC-ACGATACAT-GC-CATTTCCGTAAT-ACATGA-TACATGACAATTCCCACCCATCCAAACAACCATAGGATCACCCACTCCCCACCGAAACCTTA-ACGTAACTACACACTATCAACTCCCAACTAACG-ACATGAACGAACATTCGTACCCCTCCCCCAAAACTAC-ACC-TAACC-CAAAA-TACATGATGTCCACCAGTTCATAA-ATACCATGGCATGTTATAAGTACCACCG-ACCGT-CATT-ACATGCTTTATGTATCGCAACAACTACCCAC-TCAGTTATGAACCCACCATGGGTTTA-GACGAAGGGGTACTTTCTTGTCTCTTATCAAATTTA-AT-CTAGAATCGAA--ACCC-A---CG-ATTACCAC-CTCA-ATTTCTGAAAAAGAG-ACTAAACAG-GAACCTTTTTCCAAAAGTAGAGGCCAATGTTCTGACCACA-TAA-TCAAATA-TGATGTTCCTGTCCGGGTAAACTCATAAA-ACAAAA-GT-TAATCC-CT-CTATCAACCATATCCTAATCCTAACAACA\n",
      "nea_1\n",
      "GTATTGACT-CACCCATCAGCAACCGCT-ATGTATCTCGTACATTACTGTTAGTTACCATGA-ATATTGTACAGTACCATAATTACTTGACTACCTG-CAGTACATA-AAAACC-TA-ATCCACATCA-AACCC-C-CCCC-CC-CATGCTTACAAGCAAGCACA-GCAATCAACCTTCAACTGTCATACATCAACTACAACTCCAAAGACGCCCTTACACCCACTAGGATATCAACAAACCTACCCACCCTTGA-CAGTACATAGCACATAAAGTCAT-TTA-CCGTA-CATAGCACATTACAGTCAAATCCCTTCTCGCCCCCATGGATGACCCCCCTCAGATA-GGGGTC-CCTTGATTTTTCGTCTGGGGGGT--GTGCACG-C-GATAGCATTGCGAGACGCTGGAGCCGGAGCACCCTATGTCGCAGTATCTGTCTTTGATTCCTGCCCCATTCCATTATTTATCGCACCTACGTTCAATATTACAGGCGAGCATACTTACTAAAGTGTGTTAATTAATTA-ATGCTTGT-AGGACATAATAATAACGACTAAATGTCTGCACAGCTGCTTTCCA-CACAGAC--ATCATAACAAAA\n",
      "288.0\n",
      "177\n",
      "780\n"
     ]
    }
   ],
   "source": [
    "sequences = []\n",
    "with open(\"d_loop.fasta\", \"r\") as handle:\n",
    "    d_loop = list(SeqIO.parse(handle, \"fasta\"))\n",
    "    for a in d_loop:\n",
    "        sequences.append(a)\n",
    "\"\"\"for b in sequences:\n",
    "    alignment = pairwise2.align.localms(nea_1, b, 5, -4, -8, -8)\n",
    "    print(format_alignment(*aligner[0]))\"\"\"\n",
    "alignment = pairwise2.align.localms(sequences[0].seq, nea_1, 5, -4, -8, -8)\n",
    "\"print(format_alignment(*alignment[0]))\"\n",
    "print(\"modern human\")\n",
    "print(alignment[0][0][177:780])\n",
    "print(\"nea_1\")\n",
    "print(alignment[0][1][177:780])\n",
    "print(alignment[0][2])\n",
    "print(alignment[0][3])\n",
    "print(alignment[0][4])\n",
    "    "
   ]
  },
  {
   "cell_type": "code",
   "execution_count": 63,
   "metadata": {},
   "outputs": [
    {
     "name": "stdout",
     "output_type": "stream",
     "text": [
      "504\n"
     ]
    }
   ],
   "source": [
    "print(len(alignment))"
   ]
  },
  {
   "cell_type": "code",
   "execution_count": 41,
   "metadata": {},
   "outputs": [
    {
     "name": "stdout",
     "output_type": "stream",
     "text": [
      "SingleLetterAlphabet() alignment with 206 rows and 1600 columns\n",
      "GTAGCACACAGAATAAATTCCCCTTGCACACCCGATAAATCCGA...GAA Andalusia(AF382011).txt\n",
      "GTAGCACTCAGAATAAATTCCCCTTGCACACCCGATAAATCCGA...GAA Aust(AF346963).txt\n",
      "GTAGCACTACAGAATAATTCCCCTTGCACACCCGATAAATCCGA...AAT Aust(AF346964).txt\n",
      "GTAGCACTACAGATAAATTCCCCTTGCACACCCGATAAATCCGA...AAT Aust(AF346965).txt\n",
      "GTAGCACACAGAATAAATTCCCCTTGCACACCCGATAAATCCGA...GAA Aust(AY289051).txt\n",
      "GTAGCACTACAAATAAATTCCCCTTGCACACCCGATAAATCCGA...GAT Aust(AY289052).txt\n",
      "GTAGCACTACGAATAAATTCCCCTTGCACACCCGATAAATCCAA...GAA Aust(AY289053).txt\n",
      "GTAGCACTAAGAATAAATTCCCCTTGCACACCCGATAAATCCGA...GAA Aust(AY289054).txt\n",
      "GTAGCACTAAGAATAAATTCCCCTTGCACACCCGATAAATCCGA...GAA Aust(AY289055).txt\n",
      "GTAGCACTAAGAATAAATTCCCCTTGCACACCCGATAAATCCGA...GAA Aust(AY289056).txt\n",
      "GTAGCACTAAGAATAAATTCCCCTTGCACACCCGATAAATCCGA...GAA Aust(AY289057).txt\n",
      "GTAGCACTAAGAATAAATTCCCCTTGCACACCCGATAAATCCGA...GAA Aust(AY289058).txt\n",
      "GTAGCACTACAGAAAAATTCCCCTTGCACACCCGATAAATCCGA...ATC Aust(AY289059).txt\n",
      "GTAGCACTAAGAATAAATTCCCCTTGCACACCCGATAAATCCGA...GAA Aust(AY289060).txt\n",
      "GTAGCACACAGAATAAATTCCCCTTGCACACCCGATAAATCCGA...GAA Aust(AY289061).txt\n",
      "GTAGCACTCAGAATAAATTCCCCTTGCACACCCGATAAATCCGA...GAA Aust(AY289062).txt\n",
      "GTAGCACTCAGAATAAATTCCCCTTGCACACCCGATAAATCCGA...GAA Aust(AY289063).txt\n",
      "GTAGCACTCAGAATAAATTCCCCTTGCACACCCGATAAATCCGA...GAA Aust(AY289064).txt\n",
      "...\n",
      "GTAGCACTACGAATAAATTCCCCTTGCACACCCGATAAATCCGA...AAT Yoruba(AF347015).txt\n"
     ]
    }
   ],
   "source": [
    "from Bio.Alphabet import generic_dna\n",
    "from Bio.Seq import Seq\n",
    "from Bio.SeqRecord import SeqRecord\n",
    "from Bio.Align import MultipleSeqAlignment\n",
    "from Bio import AlignIO\n",
    "\n",
    "with open(\"d_loop.fasta\", \"r\") as handle:\n",
    "    sequences = []\n",
    "    d_loop = SeqIO.parse(handle, \"fasta\")\n",
    "    \"\"\"for seq in d_loop:\n",
    "        a = aligner.align(nea_1, seq.seq)\n",
    "        for i in a:\"\"\"\n",
    "    for seq in d_loop:\n",
    "        sequences.append(SeqRecord(seq.seq))\n",
    "    sequences.append(SeqRecord(nea_1))\n",
    "    \n",
    "al1 = AlignIO.read(open(\"d_loop.fasta\", \"r\"), \"fasta\")  \n",
    "print(al1)\n"
   ]
  },
  {
   "cell_type": "code",
   "execution_count": null,
   "metadata": {},
   "outputs": [],
   "source": []
  }
 ],
 "metadata": {
  "kernelspec": {
   "display_name": "Python 3",
   "language": "python",
   "name": "python3"
  },
  "language_info": {
   "codemirror_mode": {
    "name": "ipython",
    "version": 3
   },
   "file_extension": ".py",
   "mimetype": "text/x-python",
   "name": "python",
   "nbconvert_exporter": "python",
   "pygments_lexer": "ipython3",
   "version": "3.6.7"
  }
 },
 "nbformat": 4,
 "nbformat_minor": 2
}
