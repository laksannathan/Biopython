{
 "cells": [
  {
   "cell_type": "code",
   "execution_count": 1,
   "metadata": {},
   "outputs": [],
   "source": [
    "from Bio import SeqIO"
   ]
  },
  {
   "cell_type": "code",
   "execution_count": 12,
   "metadata": {},
   "outputs": [],
   "source": [
    "from Bio import Entrez, Seq, SeqIO\n",
    "\n",
    "def get_seq(db, key, rettype=\"gb\"):\n",
    "    Entrez.email = \"A.N.Other@example.com\"\n",
    "    handle = Entrez.efetch(db=db, id=key, rettype=rettype)\n",
    "    return SeqIO.read(handle, \"gb\")\n",
    "\n",
    "#hvr-1\n",
    "nea_1a = get_seq(\"nucleotide\", \"AF011222\")\n",
    "nea_1b = get_seq(\"nucleotide\", \"AF282971\")\n",
    "\n",
    "#hvr-2\n",
    "nea_2a = get_seq(\"nucleotide\", \"AF142095\")\n",
    "nea_2b = get_seq(\"nucleotide\", \"AF282972\")\n",
    "\n",
    "handle.close()"
   ]
  },
  {
   "cell_type": "code",
   "execution_count": 17,
   "metadata": {},
   "outputs": [
    {
     "data": {
      "text/plain": [
       "Seq('TTTTCGTCTGGGGGGTGTGCACGCGATAGCATTGCGAGACGCTGGAGCCGGAGC...AAT', IUPACAmbiguousDNA())"
      ]
     },
     "execution_count": 17,
     "metadata": {},
     "output_type": "execute_result"
    }
   ],
   "source": [
    "nea_2a.seq"
   ]
  },
  {
   "cell_type": "code",
   "execution_count": null,
   "metadata": {},
   "outputs": [],
   "source": []
  }
 ],
 "metadata": {
  "kernelspec": {
   "display_name": "Python 3",
   "language": "python",
   "name": "python3"
  },
  "language_info": {
   "codemirror_mode": {
    "name": "ipython",
    "version": 3
   },
   "file_extension": ".py",
   "mimetype": "text/x-python",
   "name": "python",
   "nbconvert_exporter": "python",
   "pygments_lexer": "ipython3",
   "version": "3.6.5"
  }
 },
 "nbformat": 4,
 "nbformat_minor": 2
}
